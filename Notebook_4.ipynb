{
 "cells": [
  {
   "cell_type": "code",
   "execution_count": 1,
   "id": "0849fe33",
   "metadata": {},
   "outputs": [],
   "source": [
    "#List Functions"
   ]
  },
  {
   "cell_type": "code",
   "execution_count": 2,
   "id": "c9a9b23b",
   "metadata": {},
   "outputs": [
    {
     "name": "stdout",
     "output_type": "stream",
     "text": [
      "<class 'list'>\n"
     ]
    }
   ],
   "source": [
    "a=[10,20,30,40]\n",
    "print(type(a))"
   ]
  },
  {
   "cell_type": "code",
   "execution_count": 4,
   "id": "8da86bfb",
   "metadata": {},
   "outputs": [
    {
     "name": "stdout",
     "output_type": "stream",
     "text": [
      "40\n"
     ]
    }
   ],
   "source": [
    "a=[10,20,(30,40),[50,60]]\n",
    "print(a[2][1])"
   ]
  },
  {
   "cell_type": "raw",
   "id": "8afffbf5",
   "metadata": {},
   "source": [
    "#From the Above we can infer that list can hold a list inside and a tuple can also be holded  "
   ]
  },
  {
   "cell_type": "code",
   "execution_count": 5,
   "id": "df0be3d4",
   "metadata": {},
   "outputs": [
    {
     "name": "stdout",
     "output_type": "stream",
     "text": [
      "[1, 3, 4, 5]\n"
     ]
    }
   ],
   "source": [
    "a=[1,2,3,4,5]\n",
    "a.remove(2)\n",
    "print(a)"
   ]
  },
  {
   "cell_type": "code",
   "execution_count": 6,
   "id": "c3e1d473",
   "metadata": {},
   "outputs": [
    {
     "data": {
      "text/plain": [
       "[1, 3, 4, 5]"
      ]
     },
     "execution_count": 6,
     "metadata": {},
     "output_type": "execute_result"
    }
   ],
   "source": [
    "a"
   ]
  },
  {
   "cell_type": "code",
   "execution_count": 7,
   "id": "9b3251fb",
   "metadata": {},
   "outputs": [
    {
     "data": {
      "text/plain": [
       "5"
      ]
     },
     "execution_count": 7,
     "metadata": {},
     "output_type": "execute_result"
    }
   ],
   "source": [
    "a.pop()"
   ]
  },
  {
   "cell_type": "code",
   "execution_count": 8,
   "id": "1a898710",
   "metadata": {},
   "outputs": [
    {
     "data": {
      "text/plain": [
       "[1, 3, 4]"
      ]
     },
     "execution_count": 8,
     "metadata": {},
     "output_type": "execute_result"
    }
   ],
   "source": [
    "a"
   ]
  },
  {
   "cell_type": "code",
   "execution_count": 9,
   "id": "b061c6b1",
   "metadata": {},
   "outputs": [
    {
     "data": {
      "text/plain": [
       "4"
      ]
     },
     "execution_count": 9,
     "metadata": {},
     "output_type": "execute_result"
    }
   ],
   "source": [
    "a.pop()"
   ]
  },
  {
   "cell_type": "code",
   "execution_count": 10,
   "id": "a0236d0e",
   "metadata": {},
   "outputs": [
    {
     "data": {
      "text/plain": [
       "[1, 3]"
      ]
     },
     "execution_count": 10,
     "metadata": {},
     "output_type": "execute_result"
    }
   ],
   "source": [
    "a\n"
   ]
  },
  {
   "cell_type": "code",
   "execution_count": 11,
   "id": "7c6cba0c",
   "metadata": {},
   "outputs": [
    {
     "data": {
      "text/plain": [
       "3"
      ]
     },
     "execution_count": 11,
     "metadata": {},
     "output_type": "execute_result"
    }
   ],
   "source": [
    "a.pop()"
   ]
  },
  {
   "cell_type": "code",
   "execution_count": 12,
   "id": "e35e9a39",
   "metadata": {},
   "outputs": [
    {
     "data": {
      "text/plain": [
       "[1]"
      ]
     },
     "execution_count": 12,
     "metadata": {},
     "output_type": "execute_result"
    }
   ],
   "source": [
    "a"
   ]
  },
  {
   "cell_type": "code",
   "execution_count": 13,
   "id": "492ddc34",
   "metadata": {},
   "outputs": [
    {
     "data": {
      "text/plain": [
       "1"
      ]
     },
     "execution_count": 13,
     "metadata": {},
     "output_type": "execute_result"
    }
   ],
   "source": [
    "a.pop()"
   ]
  },
  {
   "cell_type": "code",
   "execution_count": 14,
   "id": "8e23c53d",
   "metadata": {},
   "outputs": [
    {
     "data": {
      "text/plain": [
       "[]"
      ]
     },
     "execution_count": 14,
     "metadata": {},
     "output_type": "execute_result"
    }
   ],
   "source": [
    "a"
   ]
  },
  {
   "cell_type": "code",
   "execution_count": 15,
   "id": "962ffc3f",
   "metadata": {},
   "outputs": [
    {
     "data": {
      "text/plain": [
       "[3, 4, 5]"
      ]
     },
     "execution_count": 15,
     "metadata": {},
     "output_type": "execute_result"
    }
   ],
   "source": [
    "a=[2,3,4,5]\n",
    "del a[0]\n",
    "a"
   ]
  },
  {
   "cell_type": "markdown",
   "id": "91f605cf",
   "metadata": {},
   "source": [
    "# we can remove the items in a list by pop , delete and remove"
   ]
  },
  {
   "cell_type": "code",
   "execution_count": 16,
   "id": "208eda5b",
   "metadata": {},
   "outputs": [
    {
     "data": {
      "text/plain": [
       "[3, 4, 5]"
      ]
     },
     "execution_count": 16,
     "metadata": {},
     "output_type": "execute_result"
    }
   ],
   "source": [
    "a"
   ]
  },
  {
   "cell_type": "code",
   "execution_count": 17,
   "id": "9b0650d8",
   "metadata": {},
   "outputs": [],
   "source": [
    "a.clear()"
   ]
  },
  {
   "cell_type": "code",
   "execution_count": 18,
   "id": "b69f3baa",
   "metadata": {},
   "outputs": [
    {
     "data": {
      "text/plain": [
       "[]"
      ]
     },
     "execution_count": 18,
     "metadata": {},
     "output_type": "execute_result"
    }
   ],
   "source": [
    "a"
   ]
  },
  {
   "cell_type": "code",
   "execution_count": 19,
   "id": "a3ded1bf",
   "metadata": {},
   "outputs": [],
   "source": [
    "#a.clear() is used to create an empty set or clear all the exisisting items in a list"
   ]
  },
  {
   "cell_type": "code",
   "execution_count": 21,
   "id": "f604dd4d",
   "metadata": {},
   "outputs": [
    {
     "name": "stdout",
     "output_type": "stream",
     "text": [
      "17\n",
      "45\n",
      "1\n",
      "208\n",
      "12.235294117647058\n"
     ]
    }
   ],
   "source": [
    "a=[1,2,3,4,5,6,7,8,9,7,22,33,41,4,5,6,45]\n",
    "print(len(a))\n",
    "print(max(a))\n",
    "print(min(a))\n",
    "print(sum(a))\n",
    "print(sum(a)/len(a))"
   ]
  },
  {
   "cell_type": "code",
   "execution_count": 22,
   "id": "683bf6d9",
   "metadata": {},
   "outputs": [
    {
     "name": "stdout",
     "output_type": "stream",
     "text": [
      "[0, 1, 2, 3, 4, 5, 6, 7, 8, 9]\n",
      "[10, 11, 12, 13, 14]\n"
     ]
    }
   ],
   "source": [
    "a=list(range(10))\n",
    "b=list(range(10,15))\n",
    "print(a)\n",
    "print(b)"
   ]
  },
  {
   "cell_type": "code",
   "execution_count": 24,
   "id": "979430ce",
   "metadata": {},
   "outputs": [
    {
     "name": "stdout",
     "output_type": "stream",
     "text": [
      "[0, 1, 2, 3, 4, 5, 6, 7, 8, 9, 10, 11, 12, 13, 14, 10, 11, 12, 13, 14]\n"
     ]
    }
   ],
   "source": [
    "a.extend(b)\n",
    "print(a)"
   ]
  },
  {
   "cell_type": "code",
   "execution_count": 25,
   "id": "71f60849",
   "metadata": {},
   "outputs": [
    {
     "name": "stdout",
     "output_type": "stream",
     "text": [
      "[10, 11, 12, 13, 14, [0, 1, 2, 3, 4, 5, 6, 7, 8, 9, 10, 11, 12, 13, 14, 10, 11, 12, 13, 14]]\n"
     ]
    }
   ],
   "source": [
    "b.append(a)\n",
    "print(b)"
   ]
  },
  {
   "cell_type": "code",
   "execution_count": 26,
   "id": "48a51a66",
   "metadata": {},
   "outputs": [],
   "source": [
    "c=list(range(10))\n",
    "d=list(range(11,15))\n",
    "for i in d:\n",
    "    if i %2==1:\n",
    "        c.append(i)\n",
    "    "
   ]
  },
  {
   "cell_type": "code",
   "execution_count": 27,
   "id": "6c0d098e",
   "metadata": {},
   "outputs": [
    {
     "name": "stdout",
     "output_type": "stream",
     "text": [
      "[0, 1, 2, 3, 4, 5, 6, 7, 8, 9, 11, 13]\n"
     ]
    }
   ],
   "source": [
    "print(c)"
   ]
  },
  {
   "cell_type": "markdown",
   "id": "507eda64",
   "metadata": {},
   "source": [
    "# enumerate Function"
   ]
  },
  {
   "cell_type": "code",
   "execution_count": null,
   "id": "35a92114",
   "metadata": {},
   "outputs": [],
   "source": [
    "#syntax:\n",
    "a=[]\n",
    "for i,e in enumerate(a):\n",
    "    print(i,e)"
   ]
  },
  {
   "cell_type": "code",
   "execution_count": 30,
   "id": "73380f7f",
   "metadata": {},
   "outputs": [
    {
     "name": "stdout",
     "output_type": "stream",
     "text": [
      "0 sai\n",
      "1 sky\n",
      "2 rain\n",
      "3 money\n"
     ]
    }
   ],
   "source": [
    "a=['sai','sky','rain','money']\n",
    "for i,e in enumerate(a):\n",
    "    print(i,e)"
   ]
  },
  {
   "cell_type": "code",
   "execution_count": 31,
   "id": "00197244",
   "metadata": {},
   "outputs": [
    {
     "name": "stdout",
     "output_type": "stream",
     "text": [
      "[1, 10, 20, 30, 40, 50, 60, 70, 80, 90]\n"
     ]
    }
   ],
   "source": [
    "f=[10,20,30,40,50,60,70,80,90]\n",
    "f.insert(0,1)\n",
    "print(f)"
   ]
  },
  {
   "cell_type": "code",
   "execution_count": 32,
   "id": "f6f51dee",
   "metadata": {},
   "outputs": [
    {
     "name": "stdout",
     "output_type": "stream",
     "text": [
      "['King', 'sai', 'charan', 'reddy']\n"
     ]
    }
   ],
   "source": [
    "r=['sai','charan','reddy']\n",
    "r.insert(0,\"King\")\n",
    "print(r)"
   ]
  },
  {
   "cell_type": "code",
   "execution_count": 33,
   "id": "a32f3173",
   "metadata": {},
   "outputs": [],
   "source": [
    "f.sort()"
   ]
  },
  {
   "cell_type": "code",
   "execution_count": 34,
   "id": "1565bd4c",
   "metadata": {},
   "outputs": [
    {
     "name": "stdout",
     "output_type": "stream",
     "text": [
      "[1, 10, 20, 30, 40, 50, 60, 70, 80, 90]\n"
     ]
    }
   ],
   "source": [
    "print(f)"
   ]
  },
  {
   "cell_type": "code",
   "execution_count": 35,
   "id": "6d3027e4",
   "metadata": {},
   "outputs": [
    {
     "name": "stdout",
     "output_type": "stream",
     "text": [
      "[4, 5, 5, 6, 7, 7, 8, 8, 8, 45, 78, 456]\n"
     ]
    }
   ],
   "source": [
    "w=[4,5,8,7,5,6,8,78,7,8,45,456]\n",
    "w.sort()\n",
    "print(w)"
   ]
  },
  {
   "cell_type": "code",
   "execution_count": 36,
   "id": "ff60c84f",
   "metadata": {},
   "outputs": [
    {
     "name": "stdout",
     "output_type": "stream",
     "text": [
      "[456, 78, 45, 8, 8, 8, 7, 7, 6, 5, 5, 4]\n"
     ]
    }
   ],
   "source": [
    "w.reverse()\n",
    "print(w)"
   ]
  },
  {
   "cell_type": "code",
   "execution_count": 37,
   "id": "389076e5",
   "metadata": {},
   "outputs": [
    {
     "data": {
      "text/plain": [
       "5"
      ]
     },
     "execution_count": 37,
     "metadata": {},
     "output_type": "execute_result"
    }
   ],
   "source": [
    "J=[1,1,1,1,1]\n",
    "J.count(1)"
   ]
  },
  {
   "cell_type": "markdown",
   "id": "b02fbf49",
   "metadata": {},
   "source": [
    "# Tuples"
   ]
  },
  {
   "cell_type": "code",
   "execution_count": 38,
   "id": "b60d5b8d",
   "metadata": {},
   "outputs": [],
   "source": [
    "#Tuples are Immutable in nature we can not change Tuple "
   ]
  },
  {
   "cell_type": "code",
   "execution_count": 39,
   "id": "65f61946",
   "metadata": {},
   "outputs": [
    {
     "name": "stdout",
     "output_type": "stream",
     "text": [
      "(1, 2, 3, 4, 5)\n",
      "5\n",
      "5\n",
      "1\n",
      "15\n",
      "3.0\n"
     ]
    }
   ],
   "source": [
    "t=(1,2,3,4,5)\n",
    "print(t)\n",
    "print(len(t))\n",
    "print(max(t))\n",
    "print(min(t))\n",
    "print(sum(t))\n",
    "print(sum(t)/len(t))"
   ]
  },
  {
   "cell_type": "code",
   "execution_count": 40,
   "id": "59794b2d",
   "metadata": {},
   "outputs": [],
   "source": [
    "#We dont have append insert delete extend in Tuple"
   ]
  },
  {
   "cell_type": "code",
   "execution_count": 41,
   "id": "8217e554",
   "metadata": {},
   "outputs": [
    {
     "ename": "AttributeError",
     "evalue": "'tuple' object has no attribute 'append'",
     "output_type": "error",
     "traceback": [
      "\u001b[1;31m---------------------------------------------------------------------------\u001b[0m",
      "\u001b[1;31mAttributeError\u001b[0m                            Traceback (most recent call last)",
      "Cell \u001b[1;32mIn[41], line 1\u001b[0m\n\u001b[1;32m----> 1\u001b[0m \u001b[43mt\u001b[49m\u001b[38;5;241;43m.\u001b[39;49m\u001b[43mappend\u001b[49m(\u001b[38;5;241m4\u001b[39m)\n",
      "\u001b[1;31mAttributeError\u001b[0m: 'tuple' object has no attribute 'append'"
     ]
    }
   ],
   "source": [
    "t.append(4)"
   ]
  },
  {
   "cell_type": "code",
   "execution_count": 42,
   "id": "3e1bc8f2",
   "metadata": {},
   "outputs": [
    {
     "ename": "AttributeError",
     "evalue": "'tuple' object has no attribute 'delete'",
     "output_type": "error",
     "traceback": [
      "\u001b[1;31m---------------------------------------------------------------------------\u001b[0m",
      "\u001b[1;31mAttributeError\u001b[0m                            Traceback (most recent call last)",
      "Cell \u001b[1;32mIn[42], line 1\u001b[0m\n\u001b[1;32m----> 1\u001b[0m \u001b[43mt\u001b[49m\u001b[38;5;241;43m.\u001b[39;49m\u001b[43mdelete\u001b[49m(\u001b[38;5;241m3\u001b[39m)\n",
      "\u001b[1;31mAttributeError\u001b[0m: 'tuple' object has no attribute 'delete'"
     ]
    }
   ],
   "source": [
    "t.delete(3)"
   ]
  },
  {
   "cell_type": "code",
   "execution_count": 43,
   "id": "b16542e5",
   "metadata": {},
   "outputs": [
    {
     "ename": "AttributeError",
     "evalue": "'tuple' object has no attribute 'insert'",
     "output_type": "error",
     "traceback": [
      "\u001b[1;31m---------------------------------------------------------------------------\u001b[0m",
      "\u001b[1;31mAttributeError\u001b[0m                            Traceback (most recent call last)",
      "Cell \u001b[1;32mIn[43], line 1\u001b[0m\n\u001b[1;32m----> 1\u001b[0m \u001b[43mt\u001b[49m\u001b[38;5;241;43m.\u001b[39;49m\u001b[43minsert\u001b[49m(\u001b[38;5;241m5\u001b[39m)\n",
      "\u001b[1;31mAttributeError\u001b[0m: 'tuple' object has no attribute 'insert'"
     ]
    }
   ],
   "source": [
    "t.insert(5)"
   ]
  },
  {
   "cell_type": "code",
   "execution_count": 44,
   "id": "79f5b574",
   "metadata": {},
   "outputs": [
    {
     "ename": "TypeError",
     "evalue": "'tuple' object is not callable",
     "output_type": "error",
     "traceback": [
      "\u001b[1;31m---------------------------------------------------------------------------\u001b[0m",
      "\u001b[1;31mTypeError\u001b[0m                                 Traceback (most recent call last)",
      "Cell \u001b[1;32mIn[44], line 1\u001b[0m\n\u001b[1;32m----> 1\u001b[0m \u001b[43mt\u001b[49m\u001b[43m(\u001b[49m\u001b[38;5;241;43m2\u001b[39;49m\u001b[43m)\u001b[49m\n",
      "\u001b[1;31mTypeError\u001b[0m: 'tuple' object is not callable"
     ]
    }
   ],
   "source": [
    "t(2)"
   ]
  },
  {
   "cell_type": "code",
   "execution_count": 45,
   "id": "1ffe38d4",
   "metadata": {},
   "outputs": [
    {
     "name": "stdout",
     "output_type": "stream",
     "text": [
      "<class 'tuple'>\n"
     ]
    }
   ],
   "source": [
    "u=()\n",
    "print(type(u))"
   ]
  },
  {
   "cell_type": "code",
   "execution_count": 46,
   "id": "aa47cbff",
   "metadata": {},
   "outputs": [
    {
     "ename": "TypeError",
     "evalue": "'tuple' object is not callable",
     "output_type": "error",
     "traceback": [
      "\u001b[1;31m---------------------------------------------------------------------------\u001b[0m",
      "\u001b[1;31mTypeError\u001b[0m                                 Traceback (most recent call last)",
      "Cell \u001b[1;32mIn[46], line 2\u001b[0m\n\u001b[0;32m      1\u001b[0m y\u001b[38;5;241m=\u001b[39m(\u001b[38;5;241m1\u001b[39m,\u001b[38;5;241m2\u001b[39m,\u001b[38;5;241m3\u001b[39m,\u001b[38;5;241m45\u001b[39m)\n\u001b[1;32m----> 2\u001b[0m \u001b[38;5;28mprint\u001b[39m(\u001b[43my\u001b[49m\u001b[43m(\u001b[49m\u001b[38;5;241;43m2\u001b[39;49m\u001b[43m)\u001b[49m)\n",
      "\u001b[1;31mTypeError\u001b[0m: 'tuple' object is not callable"
     ]
    }
   ],
   "source": [
    "y=(1,2,3,45)\n",
    "print(y(2))"
   ]
  },
  {
   "cell_type": "code",
   "execution_count": 47,
   "id": "6d2d5d0e",
   "metadata": {},
   "outputs": [
    {
     "name": "stdout",
     "output_type": "stream",
     "text": [
      "<class 'int'>\n"
     ]
    }
   ],
   "source": [
    "o=(100)\n",
    "print(type(o))"
   ]
  },
  {
   "cell_type": "code",
   "execution_count": 48,
   "id": "b496fe8f",
   "metadata": {},
   "outputs": [
    {
     "name": "stdout",
     "output_type": "stream",
     "text": [
      "<class 'tuple'>\n"
     ]
    }
   ],
   "source": [
    "p=(45,)\n",
    "print(type(p))"
   ]
  },
  {
   "cell_type": "code",
   "execution_count": 49,
   "id": "749bae5c",
   "metadata": {},
   "outputs": [],
   "source": [
    "#there are few particular applications for Tuples like Aadhar card , pincode , Latitude and Longitude, etc"
   ]
  },
  {
   "cell_type": "markdown",
   "id": "d4bc86b5",
   "metadata": {},
   "source": [
    "# Sets"
   ]
  },
  {
   "cell_type": "code",
   "execution_count": 50,
   "id": "b1e6cad4",
   "metadata": {},
   "outputs": [
    {
     "name": "stdout",
     "output_type": "stream",
     "text": [
      "{'charan', 'five', 100, 40, 'sai'}\n",
      "<class 'set'>\n"
     ]
    }
   ],
   "source": [
    "a={100,40,'sai',\"charan\",\"five\"}\n",
    "print(a)\n",
    "print(type(a))"
   ]
  },
  {
   "cell_type": "code",
   "execution_count": 51,
   "id": "6229f4ec",
   "metadata": {},
   "outputs": [],
   "source": [
    "#set will hold only unique values and we cant do indexing in Sets"
   ]
  },
  {
   "cell_type": "code",
   "execution_count": 52,
   "id": "60e9438d",
   "metadata": {},
   "outputs": [
    {
     "name": "stdout",
     "output_type": "stream",
     "text": [
      "1\n",
      "2\n",
      "3\n",
      "4\n"
     ]
    }
   ],
   "source": [
    "s={1,2,3,4}\n",
    "for i in  s:\n",
    "    print(i)"
   ]
  },
  {
   "cell_type": "code",
   "execution_count": 53,
   "id": "ee3571c2",
   "metadata": {},
   "outputs": [
    {
     "data": {
      "text/plain": [
       "True"
      ]
     },
     "execution_count": 53,
     "metadata": {},
     "output_type": "execute_result"
    }
   ],
   "source": [
    "2 in s"
   ]
  },
  {
   "cell_type": "code",
   "execution_count": 54,
   "id": "9b98b90c",
   "metadata": {},
   "outputs": [],
   "source": [
    "s.add(5)"
   ]
  },
  {
   "cell_type": "code",
   "execution_count": 55,
   "id": "cd4eccb2",
   "metadata": {},
   "outputs": [
    {
     "name": "stdout",
     "output_type": "stream",
     "text": [
      "{1, 2, 3, 4, 5}\n"
     ]
    }
   ],
   "source": [
    "print(s)"
   ]
  },
  {
   "cell_type": "code",
   "execution_count": 56,
   "id": "3c0b70e0",
   "metadata": {},
   "outputs": [
    {
     "data": {
      "text/plain": [
       "5"
      ]
     },
     "execution_count": 56,
     "metadata": {},
     "output_type": "execute_result"
    }
   ],
   "source": [
    "len(s)"
   ]
  },
  {
   "cell_type": "markdown",
   "id": "9eb89f22",
   "metadata": {},
   "source": [
    "s.remove(5)"
   ]
  },
  {
   "cell_type": "code",
   "execution_count": 57,
   "id": "dae06204",
   "metadata": {},
   "outputs": [
    {
     "name": "stdout",
     "output_type": "stream",
     "text": [
      "{1, 2, 3, 4}\n"
     ]
    }
   ],
   "source": [
    "s.remove(5)\n",
    "print((s))"
   ]
  },
  {
   "cell_type": "code",
   "execution_count": 1,
   "id": "075fb8ba",
   "metadata": {},
   "outputs": [
    {
     "data": {
      "text/plain": [
       "{1, 2, 3, 4, 5, 6, 7, 8, 9}"
      ]
     },
     "execution_count": 1,
     "metadata": {},
     "output_type": "execute_result"
    }
   ],
   "source": [
    "a={1,2,3,4,5}\n",
    "b={6,7,8,9}\n",
    "a.union(b)"
   ]
  },
  {
   "cell_type": "code",
   "execution_count": 2,
   "id": "7e162f91",
   "metadata": {},
   "outputs": [
    {
     "data": {
      "text/plain": [
       "{6, 7, 8, 9}"
      ]
     },
     "execution_count": 2,
     "metadata": {},
     "output_type": "execute_result"
    }
   ],
   "source": [
    "b"
   ]
  },
  {
   "cell_type": "code",
   "execution_count": 3,
   "id": "45ee7d11",
   "metadata": {},
   "outputs": [
    {
     "data": {
      "text/plain": [
       "{1, 2, 3, 4, 5}"
      ]
     },
     "execution_count": 3,
     "metadata": {},
     "output_type": "execute_result"
    }
   ],
   "source": [
    "a"
   ]
  },
  {
   "cell_type": "code",
   "execution_count": 4,
   "id": "2bf0ddae",
   "metadata": {},
   "outputs": [
    {
     "data": {
      "text/plain": [
       "{1, 2, 3, 4, 5, 6, 7, 8, 9}"
      ]
     },
     "execution_count": 4,
     "metadata": {},
     "output_type": "execute_result"
    }
   ],
   "source": [
    "b.union(a)"
   ]
  },
  {
   "cell_type": "code",
   "execution_count": 9,
   "id": "75a5a282",
   "metadata": {},
   "outputs": [],
   "source": [
    "#In  set to add elements we have to use \"add\""
   ]
  },
  {
   "cell_type": "code",
   "execution_count": 8,
   "id": "12cd071a",
   "metadata": {},
   "outputs": [
    {
     "data": {
      "text/plain": [
       "{1, 2, 3, 4, 5, 6}"
      ]
     },
     "execution_count": 8,
     "metadata": {},
     "output_type": "execute_result"
    }
   ],
   "source": [
    "a.add(6)\n",
    "a"
   ]
  },
  {
   "cell_type": "code",
   "execution_count": 10,
   "id": "2826ea65",
   "metadata": {},
   "outputs": [
    {
     "data": {
      "text/plain": [
       "{6}"
      ]
     },
     "execution_count": 10,
     "metadata": {},
     "output_type": "execute_result"
    }
   ],
   "source": [
    "a.intersection(b)"
   ]
  },
  {
   "cell_type": "markdown",
   "id": "d9f79824",
   "metadata": {},
   "source": [
    "# Dictionary"
   ]
  },
  {
   "cell_type": "raw",
   "id": "4263e281",
   "metadata": {},
   "source": [
    "They are caleed associative arrays {key value pairs}.Key and value together holding a pair called an item"
   ]
  },
  {
   "cell_type": "code",
   "execution_count": 11,
   "id": "c840e849",
   "metadata": {},
   "outputs": [
    {
     "name": "stdout",
     "output_type": "stream",
     "text": [
      "{100: 12.3}\n",
      "<class 'dict'>\n"
     ]
    }
   ],
   "source": [
    "d={100:12.3}\n",
    "print(d)\n",
    "print(type(d))"
   ]
  },
  {
   "cell_type": "code",
   "execution_count": 12,
   "id": "4f780555",
   "metadata": {},
   "outputs": [
    {
     "data": {
      "text/plain": [
       "12.3"
      ]
     },
     "execution_count": 12,
     "metadata": {},
     "output_type": "execute_result"
    }
   ],
   "source": [
    "d[100]"
   ]
  },
  {
   "cell_type": "code",
   "execution_count": 13,
   "id": "dbab0a61",
   "metadata": {},
   "outputs": [
    {
     "ename": "KeyError",
     "evalue": "12.3",
     "output_type": "error",
     "traceback": [
      "\u001b[1;31m---------------------------------------------------------------------------\u001b[0m",
      "\u001b[1;31mKeyError\u001b[0m                                  Traceback (most recent call last)",
      "Cell \u001b[1;32mIn[13], line 1\u001b[0m\n\u001b[1;32m----> 1\u001b[0m \u001b[43md\u001b[49m\u001b[43m[\u001b[49m\u001b[38;5;241;43m12.3\u001b[39;49m\u001b[43m]\u001b[49m\n",
      "\u001b[1;31mKeyError\u001b[0m: 12.3"
     ]
    }
   ],
   "source": [
    "d[12.3]"
   ]
  },
  {
   "cell_type": "code",
   "execution_count": 14,
   "id": "21411a64",
   "metadata": {},
   "outputs": [],
   "source": [
    "del d[100]"
   ]
  },
  {
   "cell_type": "code",
   "execution_count": 15,
   "id": "2289e429",
   "metadata": {},
   "outputs": [
    {
     "data": {
      "text/plain": [
       "{}"
      ]
     },
     "execution_count": 15,
     "metadata": {},
     "output_type": "execute_result"
    }
   ],
   "source": [
    "d"
   ]
  },
  {
   "cell_type": "code",
   "execution_count": 16,
   "id": "61c26003",
   "metadata": {},
   "outputs": [
    {
     "name": "stdout",
     "output_type": "stream",
     "text": [
      "dict_keys([1, 2, 3, 4])\n",
      "[1, 2, 3, 4]\n",
      "dict_values([10, 20, 30, 40])\n"
     ]
    }
   ],
   "source": [
    "d={1:10,2:20,3:30,4:40}\n",
    "print(d.keys())\n",
    "print(list(d.keys()))\n",
    "print(d.values())"
   ]
  },
  {
   "cell_type": "code",
   "execution_count": 18,
   "id": "79810226",
   "metadata": {},
   "outputs": [],
   "source": [
    "e={5:50}\n",
    "d.update(e)"
   ]
  },
  {
   "cell_type": "code",
   "execution_count": 19,
   "id": "3736afbf",
   "metadata": {},
   "outputs": [
    {
     "name": "stdout",
     "output_type": "stream",
     "text": [
      "{1: 10, 2: 20, 3: 30, 4: 40, 5: 50}\n"
     ]
    }
   ],
   "source": [
    "print(d)"
   ]
  },
  {
   "cell_type": "markdown",
   "id": "7882d3fd",
   "metadata": {},
   "source": [
    "# List comprehensions"
   ]
  },
  {
   "cell_type": "code",
   "execution_count": 20,
   "id": "0a356a93",
   "metadata": {},
   "outputs": [
    {
     "name": "stdout",
     "output_type": "stream",
     "text": [
      "1\n",
      "2\n",
      "3\n",
      "4\n",
      "5\n",
      "6\n",
      "7\n",
      "8\n",
      "9\n",
      "10\n",
      "11\n",
      "12\n",
      "13\n",
      "14\n",
      "15\n",
      "16\n",
      "17\n",
      "18\n",
      "19\n",
      "20\n"
     ]
    }
   ],
   "source": [
    "#WAP TO GENERATE NUMBERS FROM 1 TO 20 & STORE IT IN A LIST\n",
    "a=[]\n",
    "for i in range(1,21):\n",
    "    print(i)\n",
    "    a.append(i)"
   ]
  },
  {
   "cell_type": "code",
   "execution_count": 21,
   "id": "9e1438c7",
   "metadata": {},
   "outputs": [
    {
     "data": {
      "text/plain": [
       "[1, 2, 3, 4, 5, 6, 7, 8, 9, 10, 11, 12, 13, 14, 15, 16, 17, 18, 19, 20]"
      ]
     },
     "execution_count": 21,
     "metadata": {},
     "output_type": "execute_result"
    }
   ],
   "source": [
    "a"
   ]
  },
  {
   "cell_type": "code",
   "execution_count": 24,
   "id": "00afed4b",
   "metadata": {},
   "outputs": [
    {
     "name": "stdout",
     "output_type": "stream",
     "text": [
      "[2, 4, 6, 8, 10, 12, 14, 16, 18, 20]\n"
     ]
    }
   ],
   "source": [
    "a=[]\n",
    "for i in range(1,21):\n",
    "    if i%2==0:\n",
    "        a.append(i)\n",
    "        #print(i)\n",
    "print(a)"
   ]
  },
  {
   "cell_type": "code",
   "execution_count": 32,
   "id": "6d3f9607",
   "metadata": {},
   "outputs": [
    {
     "data": {
      "text/plain": [
       "[1, 3, 5, 7, 9, 11, 13, 15, 17, 19]"
      ]
     },
     "execution_count": 32,
     "metadata": {},
     "output_type": "execute_result"
    }
   ],
   "source": [
    "[i for i in range(1,21) if(i%2==1)]"
   ]
  },
  {
   "cell_type": "code",
   "execution_count": 34,
   "id": "b0836448",
   "metadata": {},
   "outputs": [
    {
     "data": {
      "text/plain": [
       "[51, 53, 55, 57, 59, 61, 63, 65, 67, 69]"
      ]
     },
     "execution_count": 34,
     "metadata": {},
     "output_type": "execute_result"
    }
   ],
   "source": [
    "[i+50 for i in range(1,21) if(i%2!=0)]"
   ]
  },
  {
   "cell_type": "code",
   "execution_count": 35,
   "id": "db5685e7",
   "metadata": {},
   "outputs": [
    {
     "data": {
      "text/plain": [
       "[1, 2, 3, 4, 5, 6, 7, 8, 9, 10, 11, 12, 13, 14, 15, 16, 17, 18, 19]"
      ]
     },
     "execution_count": 35,
     "metadata": {},
     "output_type": "execute_result"
    }
   ],
   "source": [
    "[i for i in range(1,20)]"
   ]
  },
  {
   "cell_type": "code",
   "execution_count": 38,
   "id": "703aa9c6",
   "metadata": {},
   "outputs": [
    {
     "name": "stdout",
     "output_type": "stream",
     "text": [
      "['SAI', 'SAHOO']\n"
     ]
    }
   ],
   "source": [
    "w=['sai','sahoo']\n",
    "s=[i.upper() for i in w]\n",
    "print(s)"
   ]
  },
  {
   "cell_type": "code",
   "execution_count": 39,
   "id": "30517638",
   "metadata": {},
   "outputs": [],
   "source": [
    "#wRITE A PROGRAM TO PRINT NUMBERS FROM 1 TO 10 I=USING LC\n",
    "#WRITE TO PRINT ONLY EVEN IN IT\n",
    "#WRITE TO PRINT ONLY ODD\n",
    "#WRITE A PRORGRAM TO CONVERT UPPER CASE GIVEN LOWER CASE"
   ]
  },
  {
   "cell_type": "code",
   "execution_count": 40,
   "id": "dea1b37e",
   "metadata": {},
   "outputs": [
    {
     "data": {
      "text/plain": [
       "[1, 2, 3, 4, 5, 6, 7, 8, 9, 10, 11, 12, 13, 14, 15, 16, 17, 18, 19, 20]"
      ]
     },
     "execution_count": 40,
     "metadata": {},
     "output_type": "execute_result"
    }
   ],
   "source": [
    "# FIRST \n",
    "[i for i in range(1,21)]"
   ]
  },
  {
   "cell_type": "code",
   "execution_count": 41,
   "id": "40ebdd6f",
   "metadata": {},
   "outputs": [
    {
     "data": {
      "text/plain": [
       "[2, 4, 6, 8, 10, 12, 14, 16, 18, 20]"
      ]
     },
     "execution_count": 41,
     "metadata": {},
     "output_type": "execute_result"
    }
   ],
   "source": [
    "#second\n",
    "[i for i in range(1,21) if i%2==0]"
   ]
  },
  {
   "cell_type": "code",
   "execution_count": 43,
   "id": "4a9cfaa0",
   "metadata": {},
   "outputs": [
    {
     "data": {
      "text/plain": [
       "[1, 3, 5, 7, 9, 11, 13, 15, 17, 19]"
      ]
     },
     "execution_count": 43,
     "metadata": {},
     "output_type": "execute_result"
    }
   ],
   "source": [
    "#third\n",
    "[i for i in range(1,21) if i%2==1]"
   ]
  },
  {
   "cell_type": "code",
   "execution_count": 45,
   "id": "cbac69f9",
   "metadata": {},
   "outputs": [
    {
     "name": "stdout",
     "output_type": "stream",
     "text": [
      "['SACHIN', 'DRAVID']\n"
     ]
    }
   ],
   "source": [
    "u=['sachin','dravid']\n",
    "g=[i.upper() for i in u]\n",
    "print(g)"
   ]
  },
  {
   "cell_type": "code",
   "execution_count": 46,
   "id": "f687b4f1",
   "metadata": {},
   "outputs": [
    {
     "name": "stdout",
     "output_type": "stream",
     "text": [
      "['sachin', 'dravid']\n"
     ]
    }
   ],
   "source": [
    "h=[i.lower() for i in g]\n",
    "print(h)"
   ]
  },
  {
   "cell_type": "code",
   "execution_count": null,
   "id": "2714a271",
   "metadata": {},
   "outputs": [],
   "source": []
  }
 ],
 "metadata": {
  "kernelspec": {
   "display_name": "Python 3 (ipykernel)",
   "language": "python",
   "name": "python3"
  },
  "language_info": {
   "codemirror_mode": {
    "name": "ipython",
    "version": 3
   },
   "file_extension": ".py",
   "mimetype": "text/x-python",
   "name": "python",
   "nbconvert_exporter": "python",
   "pygments_lexer": "ipython3",
   "version": "3.10.9"
  }
 },
 "nbformat": 4,
 "nbformat_minor": 5
}
