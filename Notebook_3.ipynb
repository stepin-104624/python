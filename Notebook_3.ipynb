{
 "cells": [
  {
   "cell_type": "markdown",
   "id": "77b5d781",
   "metadata": {},
   "source": [
    "# This is my third class of 9 Days python programming of Data science"
   ]
  },
  {
   "cell_type": "raw",
   "id": "4951bbc1",
   "metadata": {},
   "source": [
    "# Functions\n",
    ">Built in Functions\n",
    ">User Defined Functions"
   ]
  },
  {
   "cell_type": "code",
   "execution_count": 2,
   "id": "f4912224",
   "metadata": {},
   "outputs": [
    {
     "name": "stdout",
     "output_type": "stream",
     "text": [
      "sai\n",
      "3258\n"
     ]
    },
    {
     "data": {
      "text/plain": [
       "12.5"
      ]
     },
     "execution_count": 2,
     "metadata": {},
     "output_type": "execute_result"
    }
   ],
   "source": [
    "#Functions are the helping hands .Its like our servants \n",
    "print('sai')\n",
    "print(int(3258.325))\n",
    "float('12.5')"
   ]
  },
  {
   "cell_type": "code",
   "execution_count": 3,
   "id": "90b7538b",
   "metadata": {},
   "outputs": [],
   "source": [
    "#we can covert int to float and but we cant convert a string to integer"
   ]
  },
  {
   "cell_type": "code",
   "execution_count": 4,
   "id": "c79ad2e4",
   "metadata": {},
   "outputs": [
    {
     "data": {
      "text/plain": [
       "0.8939966636005579"
      ]
     },
     "execution_count": 4,
     "metadata": {},
     "output_type": "execute_result"
    }
   ],
   "source": [
    "import math\n",
    "math.sin(90)"
   ]
  },
  {
   "cell_type": "code",
   "execution_count": 5,
   "id": "a06cd263",
   "metadata": {},
   "outputs": [
    {
     "data": {
      "text/plain": [
       "1.5485777614681775"
      ]
     },
     "execution_count": 5,
     "metadata": {},
     "output_type": "execute_result"
    }
   ],
   "source": [
    "import math as m\n",
    "m.atan(45)"
   ]
  },
  {
   "cell_type": "code",
   "execution_count": 6,
   "id": "2604d0a0",
   "metadata": {},
   "outputs": [
    {
     "data": {
      "text/plain": [
       "5040"
      ]
     },
     "execution_count": 6,
     "metadata": {},
     "output_type": "execute_result"
    }
   ],
   "source": [
    "m.factorial(7)"
   ]
  },
  {
   "cell_type": "code",
   "execution_count": 7,
   "id": "f9c8b795",
   "metadata": {},
   "outputs": [
    {
     "name": "stdout",
     "output_type": "stream",
     "text": [
      "-0.4480736161291701\n",
      "120\n",
      "6\n",
      "5\n"
     ]
    }
   ],
   "source": [
    "#Math module operations\n",
    "import math as m\n",
    "print(m.cos(90))\n",
    "print(m.factorial(5))\n",
    "print(m.ceil(5.9999))\n",
    "print(m.floor(5.9999))"
   ]
  },
  {
   "cell_type": "code",
   "execution_count": 8,
   "id": "3be63f4b",
   "metadata": {},
   "outputs": [],
   "source": [
    "#user defined Functions are the own functions created by user"
   ]
  },
  {
   "cell_type": "raw",
   "id": "e58f2088",
   "metadata": {},
   "source": [
    "#Syntax\n",
    "def function_name():\n",
    "    do this\n",
    "    do this \n",
    "function_name()"
   ]
  },
  {
   "cell_type": "code",
   "execution_count": 9,
   "id": "9fd5889c",
   "metadata": {},
   "outputs": [
    {
     "name": "stdout",
     "output_type": "stream",
     "text": [
      "hello world\n",
      "Anna Nmaasthe\n"
     ]
    }
   ],
   "source": [
    "def sai():\n",
    "    print(\"hello world\")\n",
    "    print('Anna Nmaasthe')\n",
    "sai()\n"
   ]
  },
  {
   "cell_type": "code",
   "execution_count": 10,
   "id": "d73aadf2",
   "metadata": {},
   "outputs": [
    {
     "name": "stdout",
     "output_type": "stream",
     "text": [
      "hello world\n",
      "Anna Nmaasthe\n"
     ]
    }
   ],
   "source": [
    "sai()"
   ]
  },
  {
   "cell_type": "code",
   "execution_count": 11,
   "id": "42e5678e",
   "metadata": {},
   "outputs": [
    {
     "name": "stdout",
     "output_type": "stream",
     "text": [
      "hello world\n",
      "Anna Nmaasthe\n"
     ]
    }
   ],
   "source": [
    "sai()"
   ]
  },
  {
   "cell_type": "code",
   "execution_count": 12,
   "id": "cf6a5a5a",
   "metadata": {},
   "outputs": [
    {
     "name": "stdout",
     "output_type": "stream",
     "text": [
      "<function sai at 0x0000022D1ECD89D0>\n",
      "<function sai at 0x0000022D1ECD89D0>\n",
      "<function sai at 0x0000022D1ECD89D0>\n",
      "<function sai at 0x0000022D1ECD89D0>\n",
      "<function sai at 0x0000022D1ECD89D0>\n"
     ]
    }
   ],
   "source": [
    "for i in range(5):\n",
    "    print(sai)"
   ]
  },
  {
   "cell_type": "code",
   "execution_count": 13,
   "id": "cdc4b3a0",
   "metadata": {},
   "outputs": [
    {
     "name": "stdout",
     "output_type": "stream",
     "text": [
      "hello world\n",
      "Anna Nmaasthe\n",
      "hello world\n",
      "Anna Nmaasthe\n",
      "hello world\n",
      "Anna Nmaasthe\n",
      "hello world\n",
      "Anna Nmaasthe\n",
      "hello world\n",
      "Anna Nmaasthe\n"
     ]
    }
   ],
   "source": [
    "for i in range(5):\n",
    "    sai()"
   ]
  },
  {
   "cell_type": "code",
   "execution_count": 14,
   "id": "00536ee5",
   "metadata": {},
   "outputs": [
    {
     "name": "stdout",
     "output_type": "stream",
     "text": [
      "Hello Charan\n"
     ]
    }
   ],
   "source": [
    "def greet(n):\n",
    "    print(\"Hello\",n)\n",
    "greet(\"Charan\")"
   ]
  },
  {
   "cell_type": "code",
   "execution_count": 15,
   "id": "72ea25d7",
   "metadata": {},
   "outputs": [
    {
     "name": "stdout",
     "output_type": "stream",
     "text": [
      "Hello Sai\n"
     ]
    }
   ],
   "source": [
    "greet(\"Sai\")"
   ]
  },
  {
   "cell_type": "code",
   "execution_count": 16,
   "id": "75af2140",
   "metadata": {},
   "outputs": [
    {
     "name": "stdout",
     "output_type": "stream",
     "text": [
      "hello world\n",
      "Anna Nmaasthe\n"
     ]
    }
   ],
   "source": [
    "sai()"
   ]
  },
  {
   "cell_type": "code",
   "execution_count": 17,
   "id": "b6a54c78",
   "metadata": {},
   "outputs": [
    {
     "name": "stdout",
     "output_type": "stream",
     "text": [
      "Hello sai\n",
      "Hello leela\n",
      "Hello ramu\n"
     ]
    }
   ],
   "source": [
    "a=['sai','leela','ramu']\n",
    "for i in a:\n",
    "    greet(i)\n",
    "   "
   ]
  },
  {
   "cell_type": "code",
   "execution_count": 19,
   "id": "d0ac3791",
   "metadata": {},
   "outputs": [
    {
     "name": "stdout",
     "output_type": "stream",
     "text": [
      "Hi charan\n",
      "Charan Study well\n",
      "Charan ignore Negativity\n"
     ]
    }
   ],
   "source": [
    "#Write a program to create a function \n",
    "def charan():\n",
    "    print(\"Hi charan\")\n",
    "    print(\"Charan Study well\")\n",
    "    print(\"Charan ignore Negativity\")\n",
    "charan()"
   ]
  },
  {
   "cell_type": "code",
   "execution_count": 21,
   "id": "ff25dff4",
   "metadata": {},
   "outputs": [
    {
     "name": "stdout",
     "output_type": "stream",
     "text": [
      "Annna Namasthe\n",
      "Anna bye\n"
     ]
    }
   ],
   "source": [
    "def Ali():\n",
    "    print(\"Annna Namasthe\")\n",
    "    print(\"Anna bye\")\n",
    "Ali()"
   ]
  },
  {
   "cell_type": "code",
   "execution_count": 22,
   "id": "1a70fb4c",
   "metadata": {},
   "outputs": [
    {
     "name": "stdout",
     "output_type": "stream",
     "text": [
      "sai\n",
      "bhavani\n",
      "leela\n",
      "pinky\n",
      "bunny\n"
     ]
    }
   ],
   "source": [
    "j=['sai','bhavani','leela','pinky','bunny']\n",
    "for i in j:\n",
    "    print(i)"
   ]
  },
  {
   "cell_type": "code",
   "execution_count": 23,
   "id": "96c79d7d",
   "metadata": {},
   "outputs": [
    {
     "name": "stdout",
     "output_type": "stream",
     "text": [
      "0\n",
      "1\n",
      "2\n",
      "3\n",
      "4\n"
     ]
    }
   ],
   "source": [
    "for i in range(5):\n",
    "    print(i)"
   ]
  },
  {
   "cell_type": "code",
   "execution_count": 24,
   "id": "b6e7019a",
   "metadata": {},
   "outputs": [
    {
     "name": "stdout",
     "output_type": "stream",
     "text": [
      "25\n"
     ]
    }
   ],
   "source": [
    "def square(n):\n",
    "    ans=n*n\n",
    "    print(ans)\n",
    "square(5)\n",
    "    "
   ]
  },
  {
   "cell_type": "code",
   "execution_count": 25,
   "id": "b508e0e9",
   "metadata": {},
   "outputs": [
    {
     "name": "stdout",
     "output_type": "stream",
     "text": [
      "3969\n"
     ]
    }
   ],
   "source": [
    "square(63)"
   ]
  },
  {
   "cell_type": "code",
   "execution_count": 26,
   "id": "b711f8f3",
   "metadata": {},
   "outputs": [
    {
     "name": "stdout",
     "output_type": "stream",
     "text": [
      "900\n"
     ]
    }
   ],
   "source": [
    "square(30)"
   ]
  },
  {
   "cell_type": "code",
   "execution_count": 27,
   "id": "129ce000",
   "metadata": {},
   "outputs": [
    {
     "name": "stdout",
     "output_type": "stream",
     "text": [
      "225\n"
     ]
    }
   ],
   "source": [
    "square(15)"
   ]
  },
  {
   "cell_type": "code",
   "execution_count": 28,
   "id": "b4e5b939",
   "metadata": {},
   "outputs": [
    {
     "name": "stdout",
     "output_type": "stream",
     "text": [
      "welcome charan\n"
     ]
    }
   ],
   "source": [
    "def invite(n):\n",
    "    print(\"welcome\",n)\n",
    "invite(\"charan\")"
   ]
  },
  {
   "cell_type": "code",
   "execution_count": 30,
   "id": "bdd92511",
   "metadata": {},
   "outputs": [
    {
     "name": "stdout",
     "output_type": "stream",
     "text": [
      "welcome sai\n",
      "welcome leela\n",
      "welcome bhavani\n"
     ]
    }
   ],
   "source": [
    "x=['sai','leela','bhavani']\n",
    "for i in x:\n",
    "    invite(i)"
   ]
  },
  {
   "cell_type": "code",
   "execution_count": 31,
   "id": "afe6f33d",
   "metadata": {},
   "outputs": [
    {
     "name": "stdout",
     "output_type": "stream",
     "text": [
      "sai\n",
      "charan\n",
      "reddy\n"
     ]
    }
   ],
   "source": [
    "def harish():\n",
    "    print(\"sai\")\n",
    "    print(\"charan\")\n",
    "    print(\"reddy\")\n",
    "harish()"
   ]
  },
  {
   "cell_type": "code",
   "execution_count": 35,
   "id": "3a1ed99e",
   "metadata": {},
   "outputs": [
    {
     "name": "stdout",
     "output_type": "stream",
     "text": [
      "Wishes charan\n"
     ]
    }
   ],
   "source": [
    "def wish(n):\n",
    "    print(\"Wishes\",n)\n",
    "wish(\"charan\")"
   ]
  },
  {
   "cell_type": "code",
   "execution_count": 36,
   "id": "3269f8aa",
   "metadata": {},
   "outputs": [
    {
     "name": "stdout",
     "output_type": "stream",
     "text": [
      "Wishes oil\n",
      "Wishes rice\n",
      "Wishes milk\n"
     ]
    }
   ],
   "source": [
    "d=['oil','rice','milk']\n",
    "for i in d:\n",
    "    wish(i)"
   ]
  },
  {
   "cell_type": "code",
   "execution_count": null,
   "id": "6c91e9c8",
   "metadata": {},
   "outputs": [],
   "source": []
  }
 ],
 "metadata": {
  "kernelspec": {
   "display_name": "Python 3 (ipykernel)",
   "language": "python",
   "name": "python3"
  },
  "language_info": {
   "codemirror_mode": {
    "name": "ipython",
    "version": 3
   },
   "file_extension": ".py",
   "mimetype": "text/x-python",
   "name": "python",
   "nbconvert_exporter": "python",
   "pygments_lexer": "ipython3",
   "version": "3.10.9"
  }
 },
 "nbformat": 4,
 "nbformat_minor": 5
}
