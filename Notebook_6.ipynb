{
 "cells": [
  {
   "cell_type": "markdown",
   "id": "f9018de0",
   "metadata": {},
   "source": [
    "# class"
   ]
  },
  {
   "cell_type": "code",
   "execution_count": 1,
   "id": "5e905387",
   "metadata": {},
   "outputs": [],
   "source": [
    "class abc:\n",
    "    x=2\n",
    "    def show(self):\n",
    "        print(\"Hello\")"
   ]
  },
  {
   "cell_type": "code",
   "execution_count": 2,
   "id": "cfa25a0e",
   "metadata": {},
   "outputs": [
    {
     "data": {
      "text/plain": [
       "2"
      ]
     },
     "execution_count": 2,
     "metadata": {},
     "output_type": "execute_result"
    }
   ],
   "source": [
    "s=abc()\n",
    "s.x"
   ]
  },
  {
   "cell_type": "code",
   "execution_count": 3,
   "id": "df59c33a",
   "metadata": {},
   "outputs": [
    {
     "name": "stdout",
     "output_type": "stream",
     "text": [
      "Hello\n"
     ]
    }
   ],
   "source": [
    "s.show()"
   ]
  },
  {
   "cell_type": "code",
   "execution_count": 4,
   "id": "ed408a16",
   "metadata": {},
   "outputs": [],
   "source": [
    "class abc:\n",
    "    x=2\n",
    "    def show(self,n):\n",
    "        self.n=n+1\n",
    "        print(n+1)"
   ]
  },
  {
   "cell_type": "code",
   "execution_count": 5,
   "id": "fbafbb4d",
   "metadata": {},
   "outputs": [
    {
     "data": {
      "text/plain": [
       "2"
      ]
     },
     "execution_count": 5,
     "metadata": {},
     "output_type": "execute_result"
    }
   ],
   "source": [
    "s=abc()\n",
    "s.x"
   ]
  },
  {
   "cell_type": "code",
   "execution_count": 6,
   "id": "0f205de0",
   "metadata": {},
   "outputs": [
    {
     "name": "stdout",
     "output_type": "stream",
     "text": [
      "51\n"
     ]
    }
   ],
   "source": [
    "s.show(50)"
   ]
  },
  {
   "cell_type": "markdown",
   "id": "38d4f618",
   "metadata": {},
   "source": [
    "# Inheritance"
   ]
  },
  {
   "cell_type": "code",
   "execution_count": 11,
   "id": "f3de497b",
   "metadata": {},
   "outputs": [],
   "source": [
    "class father:\n",
    "    def s1(self):\n",
    "        print(\"Base class\")\n",
    "class son(father):\n",
    "    def s2(self):\n",
    "        print(\"Child class\")"
   ]
  },
  {
   "cell_type": "code",
   "execution_count": 12,
   "id": "42c81e2b",
   "metadata": {},
   "outputs": [
    {
     "name": "stdout",
     "output_type": "stream",
     "text": [
      "Base class\n",
      "Child class\n"
     ]
    }
   ],
   "source": [
    "s=son()\n",
    "s.s1()\n",
    "s.s2()"
   ]
  },
  {
   "cell_type": "code",
   "execution_count": 13,
   "id": "b9c7e7e6",
   "metadata": {},
   "outputs": [],
   "source": [
    "class father:\n",
    "    def s(self):\n",
    "        print(\"Base class\")\n",
    "class son(father):\n",
    "    def s2(self):\n",
    "        print(\"child class\")"
   ]
  },
  {
   "cell_type": "code",
   "execution_count": 15,
   "id": "b51b4208",
   "metadata": {},
   "outputs": [
    {
     "name": "stdout",
     "output_type": "stream",
     "text": [
      "Base class\n"
     ]
    },
    {
     "ename": "AttributeError",
     "evalue": "'father' object has no attribute 's2'",
     "output_type": "error",
     "traceback": [
      "\u001b[1;31m---------------------------------------------------------------------------\u001b[0m",
      "\u001b[1;31mAttributeError\u001b[0m                            Traceback (most recent call last)",
      "Cell \u001b[1;32mIn[15], line 3\u001b[0m\n\u001b[0;32m      1\u001b[0m a\u001b[38;5;241m=\u001b[39mfather()\n\u001b[0;32m      2\u001b[0m a\u001b[38;5;241m.\u001b[39ms()\n\u001b[1;32m----> 3\u001b[0m \u001b[43ma\u001b[49m\u001b[38;5;241;43m.\u001b[39;49m\u001b[43ms2\u001b[49m()\n",
      "\u001b[1;31mAttributeError\u001b[0m: 'father' object has no attribute 's2'"
     ]
    }
   ],
   "source": [
    "a=father()\n",
    "a.s()\n",
    "a.s2()"
   ]
  },
  {
   "cell_type": "markdown",
   "id": "3e1d49c8",
   "metadata": {},
   "source": [
    "# Multiple inheritance"
   ]
  },
  {
   "cell_type": "code",
   "execution_count": 19,
   "id": "dec11db0",
   "metadata": {},
   "outputs": [],
   "source": [
    "class st1:\n",
    "    def a(self):\n",
    "        self.a=7\n",
    "        print(self.a)\n",
    "class st2:\n",
    "    def b(self):\n",
    "        self.b=5\n",
    "        print(self.b)\n",
    "class st(st1,st2):\n",
    "    def add(self):\n",
    "        return self.a+self.b"
   ]
  },
  {
   "cell_type": "code",
   "execution_count": 20,
   "id": "5f2337ed",
   "metadata": {},
   "outputs": [
    {
     "data": {
      "text/plain": [
       "<bound method st1.a of <__main__.st object at 0x000002CC2E661E70>>"
      ]
     },
     "execution_count": 20,
     "metadata": {},
     "output_type": "execute_result"
    }
   ],
   "source": [
    "s=st()\n",
    "s.a"
   ]
  },
  {
   "cell_type": "code",
   "execution_count": 21,
   "id": "aa6abe5c",
   "metadata": {},
   "outputs": [
    {
     "name": "stdout",
     "output_type": "stream",
     "text": [
      "7\n"
     ]
    }
   ],
   "source": [
    "s.a()"
   ]
  },
  {
   "cell_type": "code",
   "execution_count": 22,
   "id": "87fa0bc9",
   "metadata": {},
   "outputs": [
    {
     "name": "stdout",
     "output_type": "stream",
     "text": [
      "5\n"
     ]
    }
   ],
   "source": [
    "s.b()"
   ]
  },
  {
   "cell_type": "code",
   "execution_count": 23,
   "id": "021d6766",
   "metadata": {},
   "outputs": [
    {
     "data": {
      "text/plain": [
       "12"
      ]
     },
     "execution_count": 23,
     "metadata": {},
     "output_type": "execute_result"
    }
   ],
   "source": [
    "s.add()"
   ]
  },
  {
   "cell_type": "markdown",
   "id": "3c01e36a",
   "metadata": {},
   "source": [
    "# Method Overriding"
   ]
  },
  {
   "cell_type": "code",
   "execution_count": 24,
   "id": "3cd3ff23",
   "metadata": {},
   "outputs": [],
   "source": [
    "class abc:\n",
    "    def show(self):\n",
    "        print(\"Base class\")\n",
    "class s(abc):\n",
    "    def show(self):\n",
    "        print(\"child class\")"
   ]
  },
  {
   "cell_type": "code",
   "execution_count": 25,
   "id": "9b330d24",
   "metadata": {},
   "outputs": [],
   "source": [
    "v=s()"
   ]
  },
  {
   "cell_type": "code",
   "execution_count": 26,
   "id": "fdc006f4",
   "metadata": {},
   "outputs": [
    {
     "name": "stdout",
     "output_type": "stream",
     "text": [
      "child class\n"
     ]
    }
   ],
   "source": [
    "v.show()"
   ]
  },
  {
   "cell_type": "code",
   "execution_count": null,
   "id": "c57ee7b0",
   "metadata": {},
   "outputs": [],
   "source": []
  }
 ],
 "metadata": {
  "kernelspec": {
   "display_name": "Python 3 (ipykernel)",
   "language": "python",
   "name": "python3"
  },
  "language_info": {
   "codemirror_mode": {
    "name": "ipython",
    "version": 3
   },
   "file_extension": ".py",
   "mimetype": "text/x-python",
   "name": "python",
   "nbconvert_exporter": "python",
   "pygments_lexer": "ipython3",
   "version": "3.10.9"
  }
 },
 "nbformat": 4,
 "nbformat_minor": 5
}
