{
 "cells": [
  {
   "cell_type": "markdown",
   "id": "b192b254",
   "metadata": {},
   "source": [
    "# Dictionary Comprehension"
   ]
  },
  {
   "cell_type": "raw",
   "id": "a03879c2",
   "metadata": {},
   "source": [
    "#synatx\n",
    "Dictionary Comprehension={k:v for i in range()}"
   ]
  },
  {
   "cell_type": "code",
   "execution_count": 1,
   "id": "a5298e83",
   "metadata": {},
   "outputs": [],
   "source": [
    "a={i:i*i for i in range(1,11)}"
   ]
  },
  {
   "cell_type": "code",
   "execution_count": 2,
   "id": "7c117e42",
   "metadata": {},
   "outputs": [
    {
     "name": "stdout",
     "output_type": "stream",
     "text": [
      "{1: 1, 2: 4, 3: 9, 4: 16, 5: 25, 6: 36, 7: 49, 8: 64, 9: 81, 10: 100}\n"
     ]
    }
   ],
   "source": [
    "print(a)"
   ]
  },
  {
   "cell_type": "code",
   "execution_count": 3,
   "id": "408985d7",
   "metadata": {},
   "outputs": [
    {
     "name": "stdout",
     "output_type": "stream",
     "text": [
      "{1: 1, 2: 4, 3: 27, 4: 256, 5: 3125, 6: 46656, 7: 823543, 8: 16777216, 9: 387420489, 10: 10000000000, 11: 285311670611, 12: 8916100448256, 13: 302875106592253, 14: 11112006825558016, 15: 437893890380859375, 16: 18446744073709551616, 17: 827240261886336764177, 18: 39346408075296537575424, 19: 1978419655660313589123979, 20: 104857600000000000000000000}\n"
     ]
    }
   ],
   "source": [
    "b={i:i**i for i in range(1,21)}\n",
    "print(b)"
   ]
  },
  {
   "cell_type": "code",
   "execution_count": 5,
   "id": "956648f2",
   "metadata": {},
   "outputs": [
    {
     "name": "stdout",
     "output_type": "stream",
     "text": [
      "{1: 2, 2: 4, 3: 6, 4: 8, 5: 10}\n"
     ]
    }
   ],
   "source": [
    "d={i:i*2 for i in range(1,6)}\n",
    "print(d)"
   ]
  },
  {
   "cell_type": "code",
   "execution_count": 7,
   "id": "2d46bb20",
   "metadata": {},
   "outputs": [
    {
     "data": {
      "text/plain": [
       "{2: {1: 2, 2: 4, 3: 6, 4: 8, 5: 10},\n",
       " 3: {1: 3, 2: 6, 3: 9, 4: 12, 5: 15},\n",
       " 4: {1: 4, 2: 8, 3: 12, 4: 16, 5: 20},\n",
       " 5: {1: 5, 2: 10, 3: 15, 4: 20, 5: 25}}"
      ]
     },
     "execution_count": 7,
     "metadata": {},
     "output_type": "execute_result"
    }
   ],
   "source": [
    "d={\n",
    "    k1:{k2:k1*k2 for k2 in range(1,6)}for k1 in range(2,6)\n",
    "}\n",
    "d"
   ]
  },
  {
   "cell_type": "markdown",
   "id": "59746fe9",
   "metadata": {},
   "source": [
    "# File Handling"
   ]
  },
  {
   "cell_type": "raw",
   "id": "f6635327",
   "metadata": {},
   "source": [
    "r-reading\n",
    "w-writting\n",
    "a-appending\n",
    "r+ - reading and writing"
   ]
  },
  {
   "cell_type": "code",
   "execution_count": 8,
   "id": "81bd5769",
   "metadata": {},
   "outputs": [],
   "source": [
    "#opening a file\n",
    "file=open(\"t1.txt\",'w')\n",
    "file.close()"
   ]
  },
  {
   "cell_type": "code",
   "execution_count": 11,
   "id": "b36e51ea",
   "metadata": {},
   "outputs": [],
   "source": [
    "file=open(\"t1.txt\",'w')\n",
    "file.write(\"Sai charan\")\n",
    "file.close()"
   ]
  },
  {
   "cell_type": "code",
   "execution_count": 12,
   "id": "af6d81a3",
   "metadata": {},
   "outputs": [],
   "source": [
    "file=open(\"t1.txt\",'w')\n",
    "file.write(\"power electronics\")\n",
    "file.close()"
   ]
  },
  {
   "cell_type": "raw",
   "id": "a44a2533",
   "metadata": {},
   "source": [
    "# File object attributes\n",
    "closed - Returns True if file is closed false other wise\n",
    "mode-   Retiurns Access  mode with which file was opened\n",
    "name- return name of file"
   ]
  },
  {
   "cell_type": "code",
   "execution_count": 13,
   "id": "21262277",
   "metadata": {},
   "outputs": [
    {
     "name": "stdout",
     "output_type": "stream",
     "text": [
      "False\n"
     ]
    }
   ],
   "source": [
    "file=open(\"t1.txt\",'w')\n",
    "print(file.closed)\n",
    "file.write(\"power electronics\")\n",
    "file.close()"
   ]
  },
  {
   "cell_type": "code",
   "execution_count": 17,
   "id": "0446a74f",
   "metadata": {},
   "outputs": [
    {
     "name": "stdout",
     "output_type": "stream",
     "text": [
      "True\n",
      "t1.txt\n",
      "w\n"
     ]
    }
   ],
   "source": [
    "file=open(\"t1.txt\",'w')\n",
    "file.write(\"power electronics\")\n",
    "file.close()\n",
    "print(file.closed)\n",
    "print(file.name)\n",
    "print(file.mode)"
   ]
  },
  {
   "cell_type": "code",
   "execution_count": 19,
   "id": "8212c201",
   "metadata": {},
   "outputs": [
    {
     "name": "stdout",
     "output_type": "stream",
     "text": [
      "3\n"
     ]
    }
   ],
   "source": [
    "a=1\n",
    "b=2\n",
    "c=a+b\n",
    "print(c)\n",
    "f=open(\"t2.txt\",'w')\n",
    "str1=\"a=\"+str(a)+'\\n'\n",
    "str2=\"b=\"+str(b)+'\\n'\n",
    "str3=\"c=\"+str(c)+'\\n'\n",
    "f.write(str1)\n",
    "f.write(str2)\n",
    "f.write(str3)\n",
    "f.close()"
   ]
  },
  {
   "cell_type": "code",
   "execution_count": 20,
   "id": "9af7574c",
   "metadata": {},
   "outputs": [
    {
     "name": "stdout",
     "output_type": "stream",
     "text": [
      "a=1\n",
      "\n"
     ]
    }
   ],
   "source": [
    "print(str1)"
   ]
  },
  {
   "cell_type": "code",
   "execution_count": 25,
   "id": "8465396a",
   "metadata": {},
   "outputs": [
    {
     "name": "stdout",
     "output_type": "stream",
     "text": [
      "enter first number5\n",
      "enter second number8\n",
      "13\n"
     ]
    }
   ],
   "source": [
    "a=int(input(\"enter first number\"))\n",
    "b=int(input(\"enter second number\"))\n",
    "c=a+b\n",
    "print(c)\n",
    "f=open(\"t2.txt\",'w')\n",
    "str1=\"a=\"+str(a)+\"\\n\"\n",
    "str2=\"b=\"+str(b)+\"\\n\"\n",
    "str3=\"c=\"+str(c)+\"\\n\"\n",
    "f.write(str1)\n",
    "f.write(str2)\n",
    "f.write(str3)\n",
    "f.close()"
   ]
  },
  {
   "cell_type": "code",
   "execution_count": 27,
   "id": "e319aa80",
   "metadata": {},
   "outputs": [
    {
     "name": "stdout",
     "output_type": "stream",
     "text": [
      "['a=5\\n', 'b=8\\n', 'c=13\\n']\n",
      "16\n",
      "None\n"
     ]
    }
   ],
   "source": [
    "f=open(\"t2.txt\",'r')\n",
    "print(f.readlines())\n",
    "print(f.tell())\n",
    "print(f.close())"
   ]
  },
  {
   "cell_type": "code",
   "execution_count": 28,
   "id": "61fa5212",
   "metadata": {},
   "outputs": [],
   "source": [
    "#tell functiion tell where is the cursor"
   ]
  },
  {
   "cell_type": "code",
   "execution_count": 29,
   "id": "5cdbb93b",
   "metadata": {},
   "outputs": [],
   "source": [
    "# create folder"
   ]
  },
  {
   "cell_type": "code",
   "execution_count": 36,
   "id": "be7d6f56",
   "metadata": {},
   "outputs": [],
   "source": [
    "import os\n",
    "#os.mkdir(\"Charan\")\n",
    "os.listdir()\n",
    "#os.rename(\"Charan\",\"Saicharan\")\n",
    "os.rename(\"h1.txt\",\"t1.txt\")"
   ]
  },
  {
   "cell_type": "markdown",
   "id": "da178ab0",
   "metadata": {},
   "source": [
    "# Exception Handling"
   ]
  },
  {
   "cell_type": "code",
   "execution_count": 40,
   "id": "a1b75237",
   "metadata": {},
   "outputs": [],
   "source": [
    "#eXCEPTION HANDLING ARE RUN TIME ERRORS"
   ]
  },
  {
   "cell_type": "code",
   "execution_count": 37,
   "id": "9a891ed7",
   "metadata": {},
   "outputs": [
    {
     "ename": "SyntaxError",
     "evalue": "unexpected character after line continuation character (1910294587.py, line 3)",
     "output_type": "error",
     "traceback": [
      "\u001b[1;36m  Cell \u001b[1;32mIn[37], line 3\u001b[1;36m\u001b[0m\n\u001b[1;33m    c=a\\b\u001b[0m\n\u001b[1;37m        ^\u001b[0m\n\u001b[1;31mSyntaxError\u001b[0m\u001b[1;31m:\u001b[0m unexpected character after line continuation character\n"
     ]
    }
   ],
   "source": [
    "a=100\n",
    "b=20\n",
    "c=a\\b\n",
    "print(c)"
   ]
  },
  {
   "cell_type": "code",
   "execution_count": 38,
   "id": "c3cf7546",
   "metadata": {},
   "outputs": [
    {
     "ename": "ZeroDivisionError",
     "evalue": "division by zero",
     "output_type": "error",
     "traceback": [
      "\u001b[1;31m---------------------------------------------------------------------------\u001b[0m",
      "\u001b[1;31mZeroDivisionError\u001b[0m                         Traceback (most recent call last)",
      "Cell \u001b[1;32mIn[38], line 3\u001b[0m\n\u001b[0;32m      1\u001b[0m a\u001b[38;5;241m=\u001b[39m\u001b[38;5;241m100\u001b[39m\n\u001b[0;32m      2\u001b[0m v\u001b[38;5;241m=\u001b[39m\u001b[38;5;241m0\u001b[39m\n\u001b[1;32m----> 3\u001b[0m \u001b[38;5;28mprint\u001b[39m(\u001b[43ma\u001b[49m\u001b[38;5;241;43m/\u001b[39;49m\u001b[43mv\u001b[49m)\n",
      "\u001b[1;31mZeroDivisionError\u001b[0m: division by zero"
     ]
    }
   ],
   "source": [
    "a=100\n",
    "v=0\n",
    "print(a/v)"
   ]
  },
  {
   "cell_type": "code",
   "execution_count": 39,
   "id": "3cc395e7",
   "metadata": {},
   "outputs": [
    {
     "ename": "TypeError",
     "evalue": "unsupported operand type(s) for /: 'str' and 'int'",
     "output_type": "error",
     "traceback": [
      "\u001b[1;31m---------------------------------------------------------------------------\u001b[0m",
      "\u001b[1;31mTypeError\u001b[0m                                 Traceback (most recent call last)",
      "Cell \u001b[1;32mIn[39], line 3\u001b[0m\n\u001b[0;32m      1\u001b[0m a\u001b[38;5;241m=\u001b[39m\u001b[38;5;124m'\u001b[39m\u001b[38;5;124msai\u001b[39m\u001b[38;5;124m'\u001b[39m\n\u001b[0;32m      2\u001b[0m c\u001b[38;5;241m=\u001b[39m\u001b[38;5;241m50\u001b[39m\n\u001b[1;32m----> 3\u001b[0m d\u001b[38;5;241m=\u001b[39m\u001b[43ma\u001b[49m\u001b[38;5;241;43m/\u001b[39;49m\u001b[43mc\u001b[49m\n\u001b[0;32m      4\u001b[0m \u001b[38;5;28mprint\u001b[39m(d)\n",
      "\u001b[1;31mTypeError\u001b[0m: unsupported operand type(s) for /: 'str' and 'int'"
     ]
    }
   ],
   "source": [
    "a='sai'\n",
    "c=50\n",
    "d=a/c\n",
    "print(d)"
   ]
  },
  {
   "cell_type": "code",
   "execution_count": 41,
   "id": "5ce84011",
   "metadata": {},
   "outputs": [
    {
     "name": "stdout",
     "output_type": "stream",
     "text": [
      "enter number55\n",
      "Enter number0\n",
      "something wrong\n"
     ]
    }
   ],
   "source": [
    "# Try-Except\n",
    "try:\n",
    "    a=int(input(\"enter number\"))\n",
    "    b=int(input(\"Enter number\"))\n",
    "    c=a/b\n",
    "    print(\"Result=\",c)\n",
    "except:\n",
    "    print(\"something wrong\")"
   ]
  },
  {
   "cell_type": "code",
   "execution_count": 49,
   "id": "eb38b975",
   "metadata": {},
   "outputs": [
    {
     "name": "stdout",
     "output_type": "stream",
     "text": [
      "enter number34\n",
      "Enter number0\n",
      "Dont Enter zero\n",
      "wahh\n"
     ]
    }
   ],
   "source": [
    "try:\n",
    "    a=int(input(\"enter number\"))\n",
    "    b=int(input(\"Enter number\"))\n",
    "    c=a/b\n",
    "    #print(\"Result=\",c)\n",
    "except ZeroDivisionError:\n",
    "    print(\"Dont Enter zero\")\n",
    "else:\n",
    "    print(\"Result\",c)\n",
    "finally:\n",
    "    print(\"wahh\")"
   ]
  },
  {
   "cell_type": "code",
   "execution_count": null,
   "id": "406f8e62",
   "metadata": {},
   "outputs": [],
   "source": []
  }
 ],
 "metadata": {
  "kernelspec": {
   "display_name": "Python 3 (ipykernel)",
   "language": "python",
   "name": "python3"
  },
  "language_info": {
   "codemirror_mode": {
    "name": "ipython",
    "version": 3
   },
   "file_extension": ".py",
   "mimetype": "text/x-python",
   "name": "python",
   "nbconvert_exporter": "python",
   "pygments_lexer": "ipython3",
   "version": "3.10.9"
  }
 },
 "nbformat": 4,
 "nbformat_minor": 5
}
