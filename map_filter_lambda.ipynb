{
 "cells": [
  {
   "cell_type": "markdown",
   "id": "3d3580ec",
   "metadata": {},
   "source": [
    "# map"
   ]
  },
  {
   "cell_type": "raw",
   "id": "6dd4d1c6",
   "metadata": {},
   "source": [
    "#syntax()\n",
    "map(function,itterables)"
   ]
  },
  {
   "cell_type": "code",
   "execution_count": 3,
   "id": "bf6f9033",
   "metadata": {},
   "outputs": [
    {
     "ename": "TypeError",
     "evalue": "'int' object is not iterable",
     "output_type": "error",
     "traceback": [
      "\u001b[1;31m---------------------------------------------------------------------------\u001b[0m",
      "\u001b[1;31mTypeError\u001b[0m                                 Traceback (most recent call last)",
      "Cell \u001b[1;32mIn[3], line 3\u001b[0m\n\u001b[0;32m      1\u001b[0m \u001b[38;5;28;01mdef\u001b[39;00m \u001b[38;5;21msqr\u001b[39m():\n\u001b[0;32m      2\u001b[0m     \u001b[38;5;28;01mreturn\u001b[39;00m a\u001b[38;5;241m*\u001b[39ma\n\u001b[1;32m----> 3\u001b[0m \u001b[38;5;28mlist\u001b[39m(\u001b[38;5;28;43mmap\u001b[39;49m\u001b[43m(\u001b[49m\u001b[43msqr\u001b[49m\u001b[43m,\u001b[49m\u001b[38;5;241;43m5\u001b[39;49m\u001b[43m)\u001b[49m)\n",
      "\u001b[1;31mTypeError\u001b[0m: 'int' object is not iterable"
     ]
    }
   ],
   "source": [
    "def sqr():\n",
    "    return a*a\n",
    "list(map(sqr,5))"
   ]
  },
  {
   "cell_type": "code",
   "execution_count": 7,
   "id": "a6285f45",
   "metadata": {},
   "outputs": [],
   "source": [
    "def sqr(a):\n",
    "    return a*a"
   ]
  },
  {
   "cell_type": "code",
   "execution_count": 8,
   "id": "9db9fa26",
   "metadata": {},
   "outputs": [
    {
     "data": {
      "text/plain": [
       "25"
      ]
     },
     "execution_count": 8,
     "metadata": {},
     "output_type": "execute_result"
    }
   ],
   "source": [
    "sqr(5)"
   ]
  },
  {
   "cell_type": "raw",
   "id": "f27429f5",
   "metadata": {},
   "source": [
    "def sqr(a):\n",
    "    return a*a\n",
    "list(map(sqr,[1,2,3,4]))"
   ]
  },
  {
   "cell_type": "code",
   "execution_count": 11,
   "id": "19e1460c",
   "metadata": {},
   "outputs": [
    {
     "data": {
      "text/plain": [
       "[6, 8]"
      ]
     },
     "execution_count": 11,
     "metadata": {},
     "output_type": "execute_result"
    }
   ],
   "source": [
    "# EXAMPLE 2\n",
    "def add(a,b):\n",
    "    return(a+b)\n",
    "list(map(add,[2,3],[4,5]))"
   ]
  },
  {
   "cell_type": "code",
   "execution_count": 12,
   "id": "217c445b",
   "metadata": {},
   "outputs": [
    {
     "data": {
      "text/plain": [
       "[4, 10, 18]"
      ]
     },
     "execution_count": 12,
     "metadata": {},
     "output_type": "execute_result"
    }
   ],
   "source": [
    "def mul(a,b):\n",
    "    return(a*b)\n",
    "list(map(mul,[1,2,3],[4,5,6]))"
   ]
  },
  {
   "cell_type": "markdown",
   "id": "0313f934",
   "metadata": {},
   "source": [
    "# Lambda & Filter"
   ]
  },
  {
   "cell_type": "raw",
   "id": "ea23b0e5",
   "metadata": {},
   "source": [
    "#syntax:\n",
    "arguments:expressions"
   ]
  },
  {
   "cell_type": "code",
   "execution_count": 13,
   "id": "1d214343",
   "metadata": {},
   "outputs": [
    {
     "data": {
      "text/plain": [
       "21"
      ]
     },
     "execution_count": 13,
     "metadata": {},
     "output_type": "execute_result"
    }
   ],
   "source": [
    "z=lambda x,y:5*x+3*y\n",
    "z(3,2)"
   ]
  },
  {
   "cell_type": "code",
   "execution_count": 16,
   "id": "5fc011d6",
   "metadata": {},
   "outputs": [
    {
     "data": {
      "text/plain": [
       "94"
      ]
     },
     "execution_count": 16,
     "metadata": {},
     "output_type": "execute_result"
    }
   ],
   "source": [
    "x=lambda x,y:8*x+6*y\n",
    "x(8,5)"
   ]
  },
  {
   "cell_type": "code",
   "execution_count": 17,
   "id": "5709f2c9",
   "metadata": {},
   "outputs": [
    {
     "data": {
      "text/plain": [
       "[1, 4, 9, 16]"
      ]
     },
     "execution_count": 17,
     "metadata": {},
     "output_type": "execute_result"
    }
   ],
   "source": [
    "list(map(lambda x:x*x,[1,2,3,4]))"
   ]
  },
  {
   "cell_type": "code",
   "execution_count": 18,
   "id": "3a3704d4",
   "metadata": {},
   "outputs": [
    {
     "data": {
      "text/plain": [
       "[2.0, 4.0, 6.0, 8.0]"
      ]
     },
     "execution_count": 18,
     "metadata": {},
     "output_type": "execute_result"
    }
   ],
   "source": [
    "def div(a,b):\n",
    "    return(a/b)\n",
    "list(map(div,[2,4,6,8],[1,1,1,1]))"
   ]
  },
  {
   "cell_type": "code",
   "execution_count": 20,
   "id": "e73ebf6f",
   "metadata": {},
   "outputs": [
    {
     "data": {
      "text/plain": [
       "[10, 40, 90, 160, 250]"
      ]
     },
     "execution_count": 20,
     "metadata": {},
     "output_type": "execute_result"
    }
   ],
   "source": [
    "list(map(lambda x,y:x*y,[10,20,30,40,50],[1,2,3,4,5]))"
   ]
  },
  {
   "cell_type": "code",
   "execution_count": 21,
   "id": "ffa2fab8",
   "metadata": {},
   "outputs": [
    {
     "data": {
      "text/plain": [
       "[False, False, False, False, False, True]"
      ]
     },
     "execution_count": 21,
     "metadata": {},
     "output_type": "execute_result"
    }
   ],
   "source": [
    "list(map(lambda x:x>=6,[1,2,3,4,5,6]))"
   ]
  },
  {
   "cell_type": "code",
   "execution_count": 22,
   "id": "26117e9e",
   "metadata": {},
   "outputs": [
    {
     "data": {
      "text/plain": [
       "[6]"
      ]
     },
     "execution_count": 22,
     "metadata": {},
     "output_type": "execute_result"
    }
   ],
   "source": [
    "list(filter(lambda x:x>=6,[1,2,3,4,5,6]))"
   ]
  },
  {
   "cell_type": "code",
   "execution_count": 23,
   "id": "85a6f7c7",
   "metadata": {},
   "outputs": [
    {
     "data": {
      "text/plain": [
       "[106, 107, 108, 109]"
      ]
     },
     "execution_count": 23,
     "metadata": {},
     "output_type": "execute_result"
    }
   ],
   "source": [
    "list(map(lambda x:x+100,list(filter(lambda x:x>=6,[1,2,3,4,5,6,7,8,9]))))"
   ]
  },
  {
   "cell_type": "code",
   "execution_count": null,
   "id": "e3dae3ee",
   "metadata": {},
   "outputs": [],
   "source": []
  }
 ],
 "metadata": {
  "kernelspec": {
   "display_name": "Python 3 (ipykernel)",
   "language": "python",
   "name": "python3"
  },
  "language_info": {
   "codemirror_mode": {
    "name": "ipython",
    "version": 3
   },
   "file_extension": ".py",
   "mimetype": "text/x-python",
   "name": "python",
   "nbconvert_exporter": "python",
   "pygments_lexer": "ipython3",
   "version": "3.10.9"
  }
 },
 "nbformat": 4,
 "nbformat_minor": 5
}
