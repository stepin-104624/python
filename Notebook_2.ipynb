{
 "cells": [
  {
   "cell_type": "markdown",
   "id": "e4d92395",
   "metadata": {},
   "source": [
    "# This is Day 2 of My Programming in total 9 Programming class"
   ]
  },
  {
   "cell_type": "code",
   "execution_count": 1,
   "id": "38242422",
   "metadata": {},
   "outputs": [
    {
     "name": "stdout",
     "output_type": "stream",
     "text": [
      "Good evening\n"
     ]
    }
   ],
   "source": [
    "print(\"Good evening\")"
   ]
  },
  {
   "cell_type": "code",
   "execution_count": 2,
   "id": "254ef376",
   "metadata": {},
   "outputs": [
    {
     "ename": "SyntaxError",
     "evalue": "invalid syntax. Perhaps you forgot a comma? (4047103383.py, line 1)",
     "output_type": "error",
     "traceback": [
      "\u001b[1;36m  Cell \u001b[1;32mIn[2], line 1\u001b[1;36m\u001b[0m\n\u001b[1;33m    print(Sai Anna)\u001b[0m\n\u001b[1;37m          ^\u001b[0m\n\u001b[1;31mSyntaxError\u001b[0m\u001b[1;31m:\u001b[0m invalid syntax. Perhaps you forgot a comma?\n"
     ]
    }
   ],
   "source": [
    "print(Sai Anna)"
   ]
  },
  {
   "cell_type": "code",
   "execution_count": 3,
   "id": "5bbafed6",
   "metadata": {},
   "outputs": [],
   "source": [
    "#if we dont give double quotes we will get the syntax error"
   ]
  },
  {
   "cell_type": "code",
   "execution_count": 4,
   "id": "3e989a4b",
   "metadata": {},
   "outputs": [
    {
     "name": "stdout",
     "output_type": "stream",
     "text": [
      "Addition of a= 10 and b= 20 is c= 30\n"
     ]
    }
   ],
   "source": [
    "a=10\n",
    "b=20\n",
    "c=a+b\n",
    "print(\"Addition of a=\",a,\"and b=\",b,\"is c=\",c )"
   ]
  },
  {
   "cell_type": "code",
   "execution_count": 5,
   "id": "017bc529",
   "metadata": {},
   "outputs": [
    {
     "name": "stdout",
     "output_type": "stream",
     "text": [
      "Addition of a=10and b=20isc=30\n"
     ]
    }
   ],
   "source": [
    "#But you can see right this is the old method and we dont even like this so we will try new methods\n",
    "print(\"Addition of a={}and b={}isc={}\".format(a,b,c))"
   ]
  },
  {
   "cell_type": "code",
   "execution_count": 7,
   "id": "e8cd23d6",
   "metadata": {},
   "outputs": [
    {
     "name": "stdout",
     "output_type": "stream",
     "text": [
      "10\n",
      "<class 'int'>\n",
      "1.23\n",
      "<class 'float'>\n",
      "True\n",
      "<class 'bool'>\n",
      "(5+8j)\n",
      "<class 'complex'>\n"
     ]
    }
   ],
   "source": [
    "#variable types\n",
    "a=10\n",
    "b=1.23\n",
    "c=True\n",
    "d=5+8j\n",
    "print(a)\n",
    "print(type(a))\n",
    "print(b)\n",
    "print(type(b))\n",
    "print(c)\n",
    "print(type(c))\n",
    "print(d)\n",
    "print(type(d))\n",
    "\n",
    "\n",
    "\n"
   ]
  },
  {
   "cell_type": "markdown",
   "id": "ba3ad11c",
   "metadata": {},
   "source": [
    "## KEYWORDS"
   ]
  },
  {
   "cell_type": "code",
   "execution_count": 10,
   "id": "1d3b2746",
   "metadata": {},
   "outputs": [
    {
     "name": "stdout",
     "output_type": "stream",
     "text": [
      "\n",
      "Welcome to Python 3.10's help utility!\n",
      "\n",
      "If this is your first time using Python, you should definitely check out\n",
      "the tutorial on the internet at https://docs.python.org/3.10/tutorial/.\n",
      "\n",
      "Enter the name of any module, keyword, or topic to get help on writing\n",
      "Python programs and using Python modules.  To quit this help utility and\n",
      "return to the interpreter, just type \"quit\".\n",
      "\n",
      "To get a list of available modules, keywords, symbols, or topics, type\n",
      "\"modules\", \"keywords\", \"symbols\", or \"topics\".  Each module also comes\n",
      "with a one-line summary of what it does; to list the modules whose name\n",
      "or summary contain a given string such as \"spam\", type \"modules spam\".\n",
      "\n",
      "help> keywords\n",
      "\n",
      "Here is a list of the Python keywords.  Enter any keyword to get more help.\n",
      "\n",
      "False               class               from                or\n",
      "None                continue            global              pass\n",
      "True                def                 if                  raise\n",
      "and                 del                 import              return\n",
      "as                  elif                in                  try\n",
      "assert              else                is                  while\n",
      "async               except              lambda              with\n",
      "await               finally             nonlocal            yield\n",
      "break               for                 not                 \n",
      "\n",
      "help> \n",
      "\n",
      "You are now leaving help and returning to the Python interpreter.\n",
      "If you want to ask for help on a particular object directly from the\n",
      "interpreter, you can type \"help(object)\".  Executing \"help('string')\"\n",
      "has the same effect as typing a particular string at the help> prompt.\n"
     ]
    }
   ],
   "source": [
    "help()"
   ]
  },
  {
   "cell_type": "markdown",
   "id": "a0a4267f",
   "metadata": {},
   "source": [
    "#  Airthmetic operators"
   ]
  },
  {
   "cell_type": "code",
   "execution_count": 11,
   "id": "cdc8be40",
   "metadata": {},
   "outputs": [
    {
     "name": "stdout",
     "output_type": "stream",
     "text": [
      "10\n",
      "0\n",
      "25\n",
      "1.0\n",
      "2\n",
      "0\n",
      "16\n"
     ]
    }
   ],
   "source": [
    "print(5+5)\n",
    "print(5-5)\n",
    "print(5*5)\n",
    "print(5/5)\n",
    "print(4//2)\n",
    "print(4%2)\n",
    "print(4**2)"
   ]
  },
  {
   "cell_type": "markdown",
   "id": "ab45b8e8",
   "metadata": {},
   "source": [
    "# Relational Operators"
   ]
  },
  {
   "cell_type": "code",
   "execution_count": 12,
   "id": "7a2e9c95",
   "metadata": {},
   "outputs": [
    {
     "name": "stdout",
     "output_type": "stream",
     "text": [
      "True\n",
      "True\n",
      "True\n",
      "True\n",
      "True\n",
      "True\n"
     ]
    }
   ],
   "source": [
    "print(2<3)\n",
    "print(8>5)\n",
    "print(2<=3)\n",
    "print(8>=5)\n",
    "print(5==5)\n",
    "print(9!=5)"
   ]
  },
  {
   "cell_type": "markdown",
   "id": "0cd33b94",
   "metadata": {},
   "source": [
    "# Logical operators "
   ]
  },
  {
   "cell_type": "code",
   "execution_count": 13,
   "id": "b0ac83d2",
   "metadata": {},
   "outputs": [
    {
     "name": "stdout",
     "output_type": "stream",
     "text": [
      "False\n",
      "True\n",
      "False\n",
      "True\n"
     ]
    }
   ],
   "source": [
    "S=True\n",
    "A=False\n",
    "print(S and A)\n",
    "print(S or A)\n",
    "print(not S)\n",
    "print(not A)"
   ]
  },
  {
   "cell_type": "code",
   "execution_count": 14,
   "id": "e89b82cf",
   "metadata": {},
   "outputs": [
    {
     "ename": "SyntaxError",
     "evalue": "cannot assign to literal here. Maybe you meant '==' instead of '='? (1319666746.py, line 1)",
     "output_type": "error",
     "traceback": [
      "\u001b[1;36m  Cell \u001b[1;32mIn[14], line 1\u001b[1;36m\u001b[0m\n\u001b[1;33m    5=5\u001b[0m\n\u001b[1;37m    ^\u001b[0m\n\u001b[1;31mSyntaxError\u001b[0m\u001b[1;31m:\u001b[0m cannot assign to literal here. Maybe you meant '==' instead of '='?\n"
     ]
    }
   ],
   "source": [
    "5=5\n",
    "#For comparision we have to give Double Equals to else we will get an error (Syntax Error)"
   ]
  },
  {
   "cell_type": "markdown",
   "id": "f1ab16ca",
   "metadata": {},
   "source": [
    "# Membership operators"
   ]
  },
  {
   "cell_type": "code",
   "execution_count": 15,
   "id": "0c7d3a10",
   "metadata": {},
   "outputs": [
    {
     "data": {
      "text/plain": [
       "True"
      ]
     },
     "execution_count": 15,
     "metadata": {},
     "output_type": "execute_result"
    }
   ],
   "source": [
    "'c'in \"chaaran\""
   ]
  },
  {
   "cell_type": "code",
   "execution_count": 16,
   "id": "63fac361",
   "metadata": {},
   "outputs": [
    {
     "data": {
      "text/plain": [
       "False"
      ]
     },
     "execution_count": 16,
     "metadata": {},
     "output_type": "execute_result"
    }
   ],
   "source": [
    "'d' in \"Daarshanam\"\n",
    "#because python is case sensitive for python the D and d are different"
   ]
  },
  {
   "cell_type": "code",
   "execution_count": 17,
   "id": "8df8ec04",
   "metadata": {},
   "outputs": [
    {
     "data": {
      "text/plain": [
       "True"
      ]
     },
     "execution_count": 17,
     "metadata": {},
     "output_type": "execute_result"
    }
   ],
   "source": [
    "\"f\" not in \"Mumbai\""
   ]
  },
  {
   "cell_type": "code",
   "execution_count": 19,
   "id": "ea882e68",
   "metadata": {},
   "outputs": [
    {
     "ename": "TypeError",
     "evalue": "argument of type 'int' is not iterable",
     "output_type": "error",
     "traceback": [
      "\u001b[1;31m---------------------------------------------------------------------------\u001b[0m",
      "\u001b[1;31mTypeError\u001b[0m                                 Traceback (most recent call last)",
      "Cell \u001b[1;32mIn[19], line 1\u001b[0m\n\u001b[1;32m----> 1\u001b[0m \u001b[38;5;241;43m1\u001b[39;49m\u001b[43m \u001b[49m\u001b[38;5;129;43;01min\u001b[39;49;00m\u001b[43m \u001b[49m\u001b[38;5;241;43m111\u001b[39;49m\n",
      "\u001b[1;31mTypeError\u001b[0m: argument of type 'int' is not iterable"
     ]
    }
   ],
   "source": [
    "1 in 111\n",
    "#we can do in and not in only for Strings mostly"
   ]
  },
  {
   "cell_type": "markdown",
   "id": "dea28c33",
   "metadata": {},
   "source": [
    "# Conditional Statements\n"
   ]
  },
  {
   "cell_type": "code",
   "execution_count": 20,
   "id": "862c6186",
   "metadata": {},
   "outputs": [
    {
     "name": "stdout",
     "output_type": "stream",
     "text": [
      "X is a number other than 5\n"
     ]
    }
   ],
   "source": [
    "#if else loops\n",
    "x=5\n",
    "if x>5:\n",
    "    print(\"X is a positive Number\")\n",
    "else:\n",
    "    print(\"X is a number other than 5\")"
   ]
  },
  {
   "cell_type": "code",
   "execution_count": 21,
   "id": "15a27727",
   "metadata": {},
   "outputs": [
    {
     "name": "stdout",
     "output_type": "stream",
     "text": [
      "Enter a number58\n",
      "Given Number is even\n"
     ]
    }
   ],
   "source": [
    "#WAP to know whether Given number is even or odd\n",
    "x=int(input(\"Enter a number\"))\n",
    "if x%2==0:\n",
    "    print(\"Given Number is even\")\n",
    "else:\n",
    "    print(\"Not an Even Number\")"
   ]
  },
  {
   "cell_type": "code",
   "execution_count": 22,
   "id": "ad16698a",
   "metadata": {},
   "outputs": [
    {
     "name": "stdout",
     "output_type": "stream",
     "text": [
      "Enter a given number785\n",
      "785 is a odd number\n"
     ]
    }
   ],
   "source": [
    "#Same Code with other Logic\n",
    "x=int(input(\"Enter a given number\"))\n",
    "if x%2==1:\n",
    "    print(x,\"is a odd number\")\n",
    "else:\n",
    "    print(x,\"is an even number\")"
   ]
  },
  {
   "cell_type": "code",
   "execution_count": 2,
   "id": "56c510b3",
   "metadata": {},
   "outputs": [
    {
     "name": "stdout",
     "output_type": "stream",
     "text": [
      "Enter your Choice\"sunnY\"\n",
      "I will go to park\n"
     ]
    }
   ],
   "source": [
    "#if elif and else\n",
    "x=input(\"Enter your Choice\")\n",
    "if x==\"Sunny\":\n",
    "    print(\"I will go to the pool\")\n",
    "elif x==\"Rainy\":\n",
    "    print(\"I will go to home back\")\n",
    "else:\n",
    "    print(\"I will go to park\")"
   ]
  },
  {
   "cell_type": "markdown",
   "id": "177d8d9e",
   "metadata": {},
   "source": [
    "# Nested if --if inside an if"
   ]
  },
  {
   "cell_type": "raw",
   "id": "d6b1d20c",
   "metadata": {},
   "source": [
    "#SYNTAX FOR NESTED IF\n",
    "if cond 1:\n",
    "    if cond 3:\n",
    "        do this\n",
    "    else:\n",
    "        do this\n",
    "elif cond 2:\n",
    "    if cond 4:\n",
    "        do this\n",
    "     else:\n",
    "         do this\n",
    "else:\n",
    "    do this "
   ]
  },
  {
   "cell_type": "markdown",
   "id": "f5f8408d",
   "metadata": {},
   "source": [
    "# Loops"
   ]
  },
  {
   "cell_type": "code",
   "execution_count": 11,
   "id": "ed2532f2",
   "metadata": {},
   "outputs": [
    {
     "name": "stdout",
     "output_type": "stream",
     "text": [
      "10 20 320 40 "
     ]
    }
   ],
   "source": [
    "a=[10,20,320,40]\n",
    "for i in a:\n",
    "    print(i,end=' ')"
   ]
  },
  {
   "cell_type": "code",
   "execution_count": 13,
   "id": "f65e463e",
   "metadata": {},
   "outputs": [
    {
     "name": "stdout",
     "output_type": "stream",
     "text": [
      "1 11 21 31 41 "
     ]
    }
   ],
   "source": [
    "for i in range(1,50,10):\n",
    "    print(i,end=\" \")"
   ]
  },
  {
   "cell_type": "code",
   "execution_count": 14,
   "id": "be3c4ba9",
   "metadata": {},
   "outputs": [
    {
     "name": "stdout",
     "output_type": "stream",
     "text": [
      "[0, 1, 2, 3, 4, 5, 6, 7, 8, 9, 10, 11, 12, 13, 14, 15, 16, 17, 18, 19, 20, 21, 22, 23, 24, 25, 26, 27, 28, 29, 30, 31, 32, 33, 34, 35, 36, 37, 38, 39, 40, 41, 42, 43, 44, 45, 46, 47, 48, 49, 50, 51, 52, 53, 54, 55, 56, 57, 58, 59, 60, 61, 62, 63, 64, 65, 66, 67, 68, 69, 70, 71, 72, 73, 74, 75, 76, 77, 78, 79, 80, 81, 82, 83, 84, 85, 86, 87, 88, 89, 90, 91, 92, 93, 94, 95, 96, 97, 98, 99]\n"
     ]
    }
   ],
   "source": [
    "a=list(range(100))\n",
    "print(a)"
   ]
  },
  {
   "cell_type": "code",
   "execution_count": 15,
   "id": "053810dc",
   "metadata": {},
   "outputs": [
    {
     "name": "stdout",
     "output_type": "stream",
     "text": [
      "(0, 1, 2, 3, 4, 5, 6, 7, 8, 9, 10, 11, 12, 13, 14, 15, 16, 17, 18, 19, 20, 21, 22, 23, 24, 25, 26, 27, 28, 29, 30, 31, 32, 33, 34, 35, 36, 37, 38, 39, 40, 41, 42, 43, 44, 45, 46, 47, 48, 49)\n"
     ]
    }
   ],
   "source": [
    "a=tuple(range(50))\n",
    "print(a)"
   ]
  },
  {
   "cell_type": "code",
   "execution_count": 17,
   "id": "54a120ca",
   "metadata": {},
   "outputs": [
    {
     "name": "stdout",
     "output_type": "stream",
     "text": [
      "{0, 1, 2, 3, 4, 5, 6, 7, 8, 9, 10, 11, 12, 13, 14, 15, 16, 17, 18, 19}\n"
     ]
    }
   ],
   "source": [
    "a=set(range(20))\n",
    "print(a)"
   ]
  },
  {
   "cell_type": "raw",
   "id": "35b58718",
   "metadata": {},
   "source": [
    "#for Loop will be in the range(0 to n-1)\n",
    "The only concern in the range should be start should be smaller than End one "
   ]
  },
  {
   "cell_type": "code",
   "execution_count": 21,
   "id": "31be2a1e",
   "metadata": {},
   "outputs": [
    {
     "name": "stdout",
     "output_type": "stream",
     "text": [
      "0\n",
      "1\n",
      "2\n",
      "3\n",
      "4\n"
     ]
    }
   ],
   "source": [
    "a=range(5)\n",
    "for i in a:\n",
    "    print(i)\n",
    "    "
   ]
  },
  {
   "cell_type": "markdown",
   "id": "cf2d63d4",
   "metadata": {},
   "source": [
    "# while Loop"
   ]
  },
  {
   "cell_type": "raw",
   "id": "e23ed2e1",
   "metadata": {},
   "source": [
    "# Syntax\n",
    "initalization\n",
    "while condition:\n",
    "    do this\n",
    "    do this\n",
    "    increment/decrement"
   ]
  },
  {
   "cell_type": "code",
   "execution_count": 22,
   "id": "79c6c7a5",
   "metadata": {},
   "outputs": [
    {
     "name": "stdout",
     "output_type": "stream",
     "text": [
      "1\n",
      "2\n",
      "3\n",
      "4\n",
      "5\n",
      "6\n"
     ]
    }
   ],
   "source": [
    "i=1\n",
    "while i<=6:\n",
    "    print(i)\n",
    "    i=i+1"
   ]
  },
  {
   "cell_type": "code",
   "execution_count": 29,
   "id": "67e4b60b",
   "metadata": {},
   "outputs": [
    {
     "name": "stdout",
     "output_type": "stream",
     "text": [
      "s a i   c h a r a n   R e d d y "
     ]
    }
   ],
   "source": [
    "a=\"sai charan Reddy\"\n",
    "i=0\n",
    "while i<len(a):\n",
    "    print(a[i],end=\" \")\n",
    "    i=i+1"
   ]
  },
  {
   "cell_type": "markdown",
   "id": "275e7b53",
   "metadata": {},
   "source": [
    "# break statement"
   ]
  },
  {
   "cell_type": "raw",
   "id": "07b2e2a4",
   "metadata": {},
   "source": [
    "(Break statement is used to terminate loops in python(in python we have only two loops for and while)"
   ]
  },
  {
   "cell_type": "code",
   "execution_count": 31,
   "id": "46395e97",
   "metadata": {},
   "outputs": [
    {
     "name": "stdout",
     "output_type": "stream",
     "text": [
      "1 2 3 4 5 6 7 8 9 10 11 12 13 14 15 16 17 18 19 20 21 22 23 24 25 26 27 28 29 30 31 32 33 34 35 36 37 38 39 40 41 42 43 44 45 46 47 48 49 50 51 52 53 54 55 56 57 58 59 60 61 62 63 64 65 66 67 68 69 70 71 72 73 74 75 76 77 78 79 80 81 82 83 84 85 86 87 88 89 90 91 92 93 94 95 96 97 98 99 100 "
     ]
    }
   ],
   "source": [
    "#Example\n",
    "for i in range(1,101):\n",
    "    print(i,end=\" \")"
   ]
  },
  {
   "cell_type": "code",
   "execution_count": 33,
   "id": "31fba8e0",
   "metadata": {},
   "outputs": [
    {
     "name": "stdout",
     "output_type": "stream",
     "text": [
      "2 4 6 8 10 12 14 16 18 20 22 24 26 28 30 32 34 36 38 40 42 44 46 48 50 52 54 56 58 60 62 64 66 68 70 72 74 76 78 80 82 84 86 88 90 92 94 96 98 "
     ]
    }
   ],
   "source": [
    "for i in range(1,100):\n",
    "    if i%2==0:\n",
    "        print(i,end=\" \")"
   ]
  },
  {
   "cell_type": "code",
   "execution_count": 35,
   "id": "2a253564",
   "metadata": {},
   "outputs": [
    {
     "name": "stdout",
     "output_type": "stream",
     "text": [
      "2 4 6 8 10 12 14 16 18 20 22 24 26 28 30 32 34 36 38 40 42 44 46 48 50 52 54 56 58 60 62 64 66 "
     ]
    }
   ],
   "source": [
    "for i in range(1,100):\n",
    "    if i%2==0:\n",
    "        if i==68:\n",
    "            break\n",
    "        else:\n",
    "            print(i,end=\" \")"
   ]
  },
  {
   "cell_type": "code",
   "execution_count": 36,
   "id": "461bcddb",
   "metadata": {},
   "outputs": [
    {
     "name": "stdout",
     "output_type": "stream",
     "text": [
      "2 4 6 "
     ]
    }
   ],
   "source": [
    "# examle 2\n",
    "for i in range(1,11):\n",
    "    if i%2==0:\n",
    "        if i==8:\n",
    "            break\n",
    "        else:\n",
    "            print(i,end=\" \")"
   ]
  },
  {
   "cell_type": "markdown",
   "id": "db0839ba",
   "metadata": {},
   "source": [
    "# continue"
   ]
  },
  {
   "cell_type": "code",
   "execution_count": 40,
   "id": "60be0e4c",
   "metadata": {},
   "outputs": [
    {
     "name": "stdout",
     "output_type": "stream",
     "text": [
      "2 4 6 10 "
     ]
    }
   ],
   "source": [
    "for i in range(1,11):\n",
    "    if i %2==0:\n",
    "        if i==8:\n",
    "            continue\n",
    "        else:\n",
    "            print(i,end=' ')"
   ]
  },
  {
   "cell_type": "raw",
   "id": "88b5fe13",
   "metadata": {},
   "source": [
    "continue will only stop that current itteration"
   ]
  },
  {
   "cell_type": "code",
   "execution_count": null,
   "id": "b4a2e19e",
   "metadata": {},
   "outputs": [],
   "source": []
  }
 ],
 "metadata": {
  "kernelspec": {
   "display_name": "Python 3 (ipykernel)",
   "language": "python",
   "name": "python3"
  },
  "language_info": {
   "codemirror_mode": {
    "name": "ipython",
    "version": 3
   },
   "file_extension": ".py",
   "mimetype": "text/x-python",
   "name": "python",
   "nbconvert_exporter": "python",
   "pygments_lexer": "ipython3",
   "version": "3.10.9"
  }
 },
 "nbformat": 4,
 "nbformat_minor": 5
}
