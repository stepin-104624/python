{
 "cells": [
  {
   "cell_type": "markdown",
   "id": "82ac3ff9",
   "metadata": {},
   "source": [
    "Hi there today I am starting my practical coding journey . I am feeling\n",
    ">Happy\n",
    ">Motivated "
   ]
  },
  {
   "cell_type": "code",
   "execution_count": 2,
   "id": "a6f897e1",
   "metadata": {},
   "outputs": [],
   "source": [
    "#coments are used for code documentation and they wont be executed in the code  even if we execute N times."
   ]
  },
  {
   "cell_type": "code",
   "execution_count": 3,
   "id": "56947298",
   "metadata": {},
   "outputs": [
    {
     "name": "stdout",
     "output_type": "stream",
     "text": [
      "8\n"
     ]
    }
   ],
   "source": [
    "#variables\n",
    "a=5\n",
    "b=3\n",
    "c=a+b\n",
    "print(c)"
   ]
  },
  {
   "cell_type": "code",
   "execution_count": 4,
   "id": "6751f377",
   "metadata": {},
   "outputs": [
    {
     "name": "stdout",
     "output_type": "stream",
     "text": [
      "5 3 8\n"
     ]
    }
   ],
   "source": [
    "print(a,b,c)"
   ]
  },
  {
   "cell_type": "code",
   "execution_count": 5,
   "id": "8ac35e21",
   "metadata": {},
   "outputs": [
    {
     "name": "stdout",
     "output_type": "stream",
     "text": [
      "sai charan\n",
      "charan\n",
      "print('Hello')\n"
     ]
    }
   ],
   "source": [
    "#but for strings we have to give Quotes to print()\n",
    "print(\"sai charan\")\n",
    "print('charan')\n",
    "print(\"print('Hello')\")"
   ]
  },
  {
   "cell_type": "code",
   "execution_count": 6,
   "id": "7061fa18",
   "metadata": {},
   "outputs": [
    {
     "name": "stdout",
     "output_type": "stream",
     "text": [
      "Addition= 50\n"
     ]
    }
   ],
   "source": [
    "#we can  combine both Strings and Numbers \n",
    "a=20\n",
    "b=30\n",
    "c=a+b\n",
    "print(\"Addition=\",c)"
   ]
  },
  {
   "cell_type": "raw",
   "id": "0e2cfa05",
   "metadata": {},
   "source": [
    "#Summarised Learning of Class_1\n",
    ">we can do better coding in Jupyter notebook compared to other IDLE\n",
    ">along with Jupyter Jovian and Colab are also widely used by programmers\n",
    ">For Strings we have to use Quotes to print\n",
    ">For numbers directly we can print\n",
    ">Extension of jupyter is .ipynb because it came from Ipython the old name of Jupyter notebook.\n",
    ">print(print()) is fun way that i enjoyed something new when i learnt"
   ]
  },
  {
   "cell_type": "code",
   "execution_count": null,
   "id": "e086ad27",
   "metadata": {},
   "outputs": [],
   "source": []
  }
 ],
 "metadata": {
  "kernelspec": {
   "display_name": "Python 3 (ipykernel)",
   "language": "python",
   "name": "python3"
  },
  "language_info": {
   "codemirror_mode": {
    "name": "ipython",
    "version": 3
   },
   "file_extension": ".py",
   "mimetype": "text/x-python",
   "name": "python",
   "nbconvert_exporter": "python",
   "pygments_lexer": "ipython3",
   "version": "3.10.9"
  },
  "widgets": {
   "application/vnd.jupyter.widget-state+json": {
    "state": {},
    "version_major": 2,
    "version_minor": 0
   }
  }
 },
 "nbformat": 4,
 "nbformat_minor": 5
}
