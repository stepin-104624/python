{
 "cells": [
  {
   "cell_type": "code",
   "execution_count": 1,
   "id": "68f351a3",
   "metadata": {},
   "outputs": [
    {
     "name": "stdout",
     "output_type": "stream",
     "text": [
      "print('hello')\n"
     ]
    }
   ],
   "source": [
    "print(\"print('hello')\")"
   ]
  },
  {
   "cell_type": "code",
   "execution_count": 2,
   "id": "cdfeeebf",
   "metadata": {},
   "outputs": [
    {
     "name": "stdout",
     "output_type": "stream",
     "text": [
      "sahoo\n"
     ]
    }
   ],
   "source": [
    "print(\"sahoo\")"
   ]
  },
  {
   "cell_type": "code",
   "execution_count": 3,
   "id": "7812cb07",
   "metadata": {},
   "outputs": [
    {
     "name": "stdout",
     "output_type": "stream",
     "text": [
      "True\n"
     ]
    }
   ],
   "source": [
    "print(5==5)"
   ]
  },
  {
   "cell_type": "code",
   "execution_count": 4,
   "id": "dc2d124a",
   "metadata": {},
   "outputs": [
    {
     "data": {
      "text/plain": [
       "True"
      ]
     },
     "execution_count": 4,
     "metadata": {},
     "output_type": "execute_result"
    }
   ],
   "source": [
    "4>=2"
   ]
  },
  {
   "cell_type": "code",
   "execution_count": 5,
   "id": "de3213b6",
   "metadata": {},
   "outputs": [
    {
     "data": {
      "text/plain": [
       "True"
      ]
     },
     "execution_count": 5,
     "metadata": {},
     "output_type": "execute_result"
    }
   ],
   "source": [
    "'d' in \"deer\""
   ]
  },
  {
   "cell_type": "code",
   "execution_count": 6,
   "id": "33519ddb",
   "metadata": {},
   "outputs": [
    {
     "data": {
      "text/plain": [
       "True"
      ]
     },
     "execution_count": 6,
     "metadata": {},
     "output_type": "execute_result"
    }
   ],
   "source": [
    "\"c\" not in \"sai\""
   ]
  },
  {
   "cell_type": "code",
   "execution_count": 7,
   "id": "2b3dd4a2",
   "metadata": {},
   "outputs": [
    {
     "data": {
      "text/plain": [
       "4005"
      ]
     },
     "execution_count": 7,
     "metadata": {},
     "output_type": "execute_result"
    }
   ],
   "source": [
    "89*45"
   ]
  },
  {
   "cell_type": "code",
   "execution_count": 8,
   "id": "53b0fb37",
   "metadata": {},
   "outputs": [
    {
     "name": "stdout",
     "output_type": "stream",
     "text": [
      "2\n"
     ]
    }
   ],
   "source": [
    "print(4//2)"
   ]
  },
  {
   "cell_type": "code",
   "execution_count": 9,
   "id": "68a83de2",
   "metadata": {},
   "outputs": [
    {
     "name": "stdout",
     "output_type": "stream",
     "text": [
      "2.0\n"
     ]
    }
   ],
   "source": [
    "print(4/2)"
   ]
  },
  {
   "cell_type": "code",
   "execution_count": 10,
   "id": "7f5c39e0",
   "metadata": {},
   "outputs": [
    {
     "name": "stdout",
     "output_type": "stream",
     "text": [
      "0\n"
     ]
    }
   ],
   "source": [
    "print(4%2)"
   ]
  },
  {
   "cell_type": "code",
   "execution_count": 11,
   "id": "d98b647b",
   "metadata": {},
   "outputs": [
    {
     "name": "stdout",
     "output_type": "stream",
     "text": [
      "2\n"
     ]
    }
   ],
   "source": [
    "print(8-6)"
   ]
  },
  {
   "cell_type": "code",
   "execution_count": 12,
   "id": "d62f8d38",
   "metadata": {},
   "outputs": [
    {
     "data": {
      "text/plain": [
       "False"
      ]
     },
     "execution_count": 12,
     "metadata": {},
     "output_type": "execute_result"
    }
   ],
   "source": [
    "a=True\n",
    "b=False \n",
    "a and b"
   ]
  },
  {
   "cell_type": "code",
   "execution_count": 13,
   "id": "64fa40cd",
   "metadata": {},
   "outputs": [
    {
     "data": {
      "text/plain": [
       "True"
      ]
     },
     "execution_count": 13,
     "metadata": {},
     "output_type": "execute_result"
    }
   ],
   "source": [
    "a or b"
   ]
  },
  {
   "cell_type": "code",
   "execution_count": 35,
   "id": "651fc0f6",
   "metadata": {},
   "outputs": [
    {
     "name": "stdout",
     "output_type": "stream",
     "text": [
      "Emter the number58\n",
      "Anna naku sambandham ledhu\n"
     ]
    }
   ],
   "source": [
    "x=int(input(\"Emter the number\"))\n",
    "if x==35:\n",
    "    print(\"x equals to 35\")\n",
    "elif x<35 and x>32:\n",
    "    print(\"x lies between 33 and 34\")\n",
    "else:\n",
    "    print(\"Anna naku sambandham ledhu\")"
   ]
  },
  {
   "cell_type": "code",
   "execution_count": 36,
   "id": "cef1f4e6",
   "metadata": {},
   "outputs": [
    {
     "name": "stdout",
     "output_type": "stream",
     "text": [
      "sai charan\n",
      "BE ALONE\n",
      "be you\n"
     ]
    }
   ],
   "source": [
    "def charan():\n",
    "    print(\"sai charan\")\n",
    "    print(\"BE ALONE\")\n",
    "    print(\"be you\")\n",
    "charan()"
   ]
  },
  {
   "cell_type": "code",
   "execution_count": 37,
   "id": "20060e3a",
   "metadata": {},
   "outputs": [
    {
     "name": "stdout",
     "output_type": "stream",
     "text": [
      "welcome charan\n"
     ]
    }
   ],
   "source": [
    "def greet(n):\n",
    "    print(\"welcome\",n)\n",
    "greet(\"charan\")"
   ]
  },
  {
   "cell_type": "code",
   "execution_count": 40,
   "id": "743126e2",
   "metadata": {},
   "outputs": [
    {
     "name": "stdout",
     "output_type": "stream",
     "text": [
      "welcome sai\n",
      "None\n",
      "welcome charan\n",
      "None\n",
      "welcome Reddy\n",
      "None\n"
     ]
    }
   ],
   "source": [
    "a=[\"sai\",'charan','Reddy']\n",
    "for i in a:\n",
    "    print(greet(i))"
   ]
  },
  {
   "cell_type": "code",
   "execution_count": 42,
   "id": "8b06e295",
   "metadata": {},
   "outputs": [
    {
     "name": "stdout",
     "output_type": "stream",
     "text": [
      "welcome sai\n",
      "None\n",
      "welcome charan\n",
      "None\n",
      "welcome Reddy\n",
      "None\n"
     ]
    }
   ],
   "source": [
    "for i in a:\n",
    "    print(greet(i))"
   ]
  },
  {
   "cell_type": "code",
   "execution_count": 47,
   "id": "d3f9fbf4",
   "metadata": {},
   "outputs": [
    {
     "name": "stdout",
     "output_type": "stream",
     "text": [
      "625\n"
     ]
    }
   ],
   "source": [
    "def square(n):\n",
    "    ans=n*n\n",
    "    print(ans)\n",
    "square(25)"
   ]
  },
  {
   "cell_type": "code",
   "execution_count": null,
   "id": "c3c82f0c",
   "metadata": {},
   "outputs": [],
   "source": []
  },
  {
   "cell_type": "code",
   "execution_count": 48,
   "id": "3b25848e",
   "metadata": {},
   "outputs": [
    {
     "name": "stdout",
     "output_type": "stream",
     "text": [
      "1296\n"
     ]
    }
   ],
   "source": [
    "square(36)"
   ]
  },
  {
   "cell_type": "code",
   "execution_count": 49,
   "id": "f6bae664",
   "metadata": {},
   "outputs": [
    {
     "name": "stdout",
     "output_type": "stream",
     "text": [
      "617796\n"
     ]
    }
   ],
   "source": [
    "square(786)"
   ]
  },
  {
   "cell_type": "code",
   "execution_count": 50,
   "id": "b512d075",
   "metadata": {},
   "outputs": [
    {
     "data": {
      "text/plain": [
       "9.0"
      ]
     },
     "execution_count": 50,
     "metadata": {},
     "output_type": "execute_result"
    }
   ],
   "source": [
    "import math as m\n",
    "m.sqrt(81)"
   ]
  },
  {
   "cell_type": "code",
   "execution_count": null,
   "id": "dad35144",
   "metadata": {},
   "outputs": [],
   "source": []
  },
  {
   "cell_type": "code",
   "execution_count": null,
   "id": "0436d0b0",
   "metadata": {},
   "outputs": [],
   "source": []
  }
 ],
 "metadata": {
  "kernelspec": {
   "display_name": "Python 3 (ipykernel)",
   "language": "python",
   "name": "python3"
  },
  "language_info": {
   "codemirror_mode": {
    "name": "ipython",
    "version": 3
   },
   "file_extension": ".py",
   "mimetype": "text/x-python",
   "name": "python",
   "nbconvert_exporter": "python",
   "pygments_lexer": "ipython3",
   "version": "3.10.9"
  }
 },
 "nbformat": 4,
 "nbformat_minor": 5
}
