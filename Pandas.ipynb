{
 "cells": [
  {
   "cell_type": "raw",
   "id": "50f82420",
   "metadata": {},
   "source": [
    "Pandas is important library for data manipulation,.wrangling & analysis\n",
    ">Series:1D\n",
    ">Dataframes:2D"
   ]
  },
  {
   "cell_type": "markdown",
   "id": "fc5cf446",
   "metadata": {},
   "source": [
    "# series"
   ]
  },
  {
   "cell_type": "code",
   "execution_count": 6,
   "id": "2ca1b70c",
   "metadata": {},
   "outputs": [],
   "source": [
    "#syntax:\n",
    "#pd.Series(data,index)\n",
    "#here data and index should match "
   ]
  },
  {
   "cell_type": "code",
   "execution_count": 1,
   "id": "1822ce4a",
   "metadata": {},
   "outputs": [
    {
     "data": {
      "text/plain": [
       "'1.5.3'"
      ]
     },
     "execution_count": 1,
     "metadata": {},
     "output_type": "execute_result"
    }
   ],
   "source": [
    "import pandas as pd\n",
    "pd.__version__"
   ]
  },
  {
   "cell_type": "code",
   "execution_count": 3,
   "id": "5ffe71b1",
   "metadata": {},
   "outputs": [
    {
     "name": "stdout",
     "output_type": "stream",
     "text": [
      "a    10\n",
      "b    12\n",
      "c    14\n",
      "dtype: int64\n"
     ]
    }
   ],
   "source": [
    "s=pd.Series([10,12,14],['a','b','c'])\n",
    "print(s)"
   ]
  },
  {
   "cell_type": "code",
   "execution_count": 5,
   "id": "670d955e",
   "metadata": {},
   "outputs": [
    {
     "name": "stdout",
     "output_type": "stream",
     "text": [
      "a    11\n",
      "b    12\n",
      "c     1\n",
      "d    15\n",
      "e    12\n",
      "dtype: int64\n"
     ]
    }
   ],
   "source": [
    "s=pd.Series([11,12,1,15,12],['a','b','c','d','e'])\n",
    "print(s)"
   ]
  },
  {
   "cell_type": "code",
   "execution_count": 10,
   "id": "07d73508",
   "metadata": {},
   "outputs": [
    {
     "name": "stdout",
     "output_type": "stream",
     "text": [
      "california    2421432\n",
      "Texas         3421463\n",
      "India         7632125\n",
      "Noida         8795647\n",
      "dtype: int64\n",
      "<class 'pandas.core.series.Series'>\n",
      "(4,)\n"
     ]
    }
   ],
   "source": [
    "population={\n",
    "    'california':2421432,\n",
    "    'Texas':3421463,\n",
    "    'India':7632125,\n",
    "    'Noida':8795647\n",
    "}\n",
    "a=pd.Series(population)\n",
    "print(a)\n",
    "print(type(a))\n",
    "print(a.shape)"
   ]
  },
  {
   "cell_type": "code",
   "execution_count": 15,
   "id": "fed7cd16",
   "metadata": {},
   "outputs": [
    {
     "name": "stdout",
     "output_type": "stream",
     "text": [
      "Empty DataFrame\n",
      "Columns: [City]\n",
      "Index: []\n"
     ]
    }
   ],
   "source": [
    "a=pd.DataFrame(population,columns=['City'])\n",
    "print(a)"
   ]
  },
  {
   "cell_type": "code",
   "execution_count": 17,
   "id": "7b7b0249",
   "metadata": {},
   "outputs": [
    {
     "data": {
      "text/html": [
       "<div>\n",
       "<style scoped>\n",
       "    .dataframe tbody tr th:only-of-type {\n",
       "        vertical-align: middle;\n",
       "    }\n",
       "\n",
       "    .dataframe tbody tr th {\n",
       "        vertical-align: top;\n",
       "    }\n",
       "\n",
       "    .dataframe thead th {\n",
       "        text-align: right;\n",
       "    }\n",
       "</style>\n",
       "<table border=\"1\" class=\"dataframe\">\n",
       "  <thead>\n",
       "    <tr style=\"text-align: right;\">\n",
       "      <th></th>\n",
       "      <th>sai</th>\n",
       "      <th>charan</th>\n",
       "    </tr>\n",
       "  </thead>\n",
       "  <tbody>\n",
       "    <tr>\n",
       "      <th>a</th>\n",
       "      <td>1.240748</td>\n",
       "      <td>1.140187</td>\n",
       "    </tr>\n",
       "    <tr>\n",
       "      <th>b</th>\n",
       "      <td>1.982755</td>\n",
       "      <td>-0.858009</td>\n",
       "    </tr>\n",
       "    <tr>\n",
       "      <th>c</th>\n",
       "      <td>-1.852509</td>\n",
       "      <td>-0.879223</td>\n",
       "    </tr>\n",
       "  </tbody>\n",
       "</table>\n",
       "</div>"
      ],
      "text/plain": [
       "        sai    charan\n",
       "a  1.240748  1.140187\n",
       "b  1.982755 -0.858009\n",
       "c -1.852509 -0.879223"
      ]
     },
     "execution_count": 17,
     "metadata": {},
     "output_type": "execute_result"
    }
   ],
   "source": [
    "import pandas as pd\n",
    "import numpy as np\n",
    "pd.DataFrame(np.random.randn(3,2),columns=['sai','charan'],index=['a','b','c'])"
   ]
  },
  {
   "cell_type": "code",
   "execution_count": 18,
   "id": "ef76fa4c",
   "metadata": {},
   "outputs": [
    {
     "data": {
      "text/html": [
       "<div>\n",
       "<style scoped>\n",
       "    .dataframe tbody tr th:only-of-type {\n",
       "        vertical-align: middle;\n",
       "    }\n",
       "\n",
       "    .dataframe tbody tr th {\n",
       "        vertical-align: top;\n",
       "    }\n",
       "\n",
       "    .dataframe thead th {\n",
       "        text-align: right;\n",
       "    }\n",
       "</style>\n",
       "<table border=\"1\" class=\"dataframe\">\n",
       "  <thead>\n",
       "    <tr style=\"text-align: right;\">\n",
       "      <th></th>\n",
       "      <th>Leela</th>\n",
       "      <th>Bhavani</th>\n",
       "      <th>Charan</th>\n",
       "      <th>manoj</th>\n",
       "    </tr>\n",
       "  </thead>\n",
       "  <tbody>\n",
       "    <tr>\n",
       "      <th>1</th>\n",
       "      <td>-0.533744</td>\n",
       "      <td>-1.156408</td>\n",
       "      <td>0.367161</td>\n",
       "      <td>-1.642596</td>\n",
       "    </tr>\n",
       "    <tr>\n",
       "      <th>2</th>\n",
       "      <td>0.545776</td>\n",
       "      <td>-1.034867</td>\n",
       "      <td>-0.214795</td>\n",
       "      <td>1.230335</td>\n",
       "    </tr>\n",
       "    <tr>\n",
       "      <th>3</th>\n",
       "      <td>0.262315</td>\n",
       "      <td>-1.075185</td>\n",
       "      <td>-0.155131</td>\n",
       "      <td>-1.719469</td>\n",
       "    </tr>\n",
       "    <tr>\n",
       "      <th>4</th>\n",
       "      <td>0.030131</td>\n",
       "      <td>1.320562</td>\n",
       "      <td>-1.464554</td>\n",
       "      <td>0.671366</td>\n",
       "    </tr>\n",
       "  </tbody>\n",
       "</table>\n",
       "</div>"
      ],
      "text/plain": [
       "      Leela   Bhavani    Charan     manoj\n",
       "1 -0.533744 -1.156408  0.367161 -1.642596\n",
       "2  0.545776 -1.034867 -0.214795  1.230335\n",
       "3  0.262315 -1.075185 -0.155131 -1.719469\n",
       "4  0.030131  1.320562 -1.464554  0.671366"
      ]
     },
     "execution_count": 18,
     "metadata": {},
     "output_type": "execute_result"
    }
   ],
   "source": [
    "import pandas as pd\n",
    "import numpy as np\n",
    "pd.DataFrame(np.random.randn(4,4),columns=[\"Leela\",\"Bhavani\",\"Charan\",\"manoj\"],index=[1,2,3,4])"
   ]
  },
  {
   "cell_type": "raw",
   "id": "04ac094b",
   "metadata": {},
   "source": [
    "#indexers\n",
    "loc& iloc(loc is what we given as index and Iloc is already standard)"
   ]
  },
  {
   "cell_type": "code",
   "execution_count": 22,
   "id": "b60f768f",
   "metadata": {},
   "outputs": [
    {
     "data": {
      "text/plain": [
       "3    b\n",
       "5    c\n",
       "dtype: object"
      ]
     },
     "execution_count": 22,
     "metadata": {},
     "output_type": "execute_result"
    }
   ],
   "source": [
    "data=pd.Series(['a','b','c'],index=[1,3,5])\n",
    "print(data[1])\n",
    "data[1:3]\n",
    "data.iloc[2]\n",
    "data.iloc[1:3]"
   ]
  },
  {
   "cell_type": "code",
   "execution_count": null,
   "id": "70f118ef",
   "metadata": {},
   "outputs": [],
   "source": []
  }
 ],
 "metadata": {
  "kernelspec": {
   "display_name": "Python 3 (ipykernel)",
   "language": "python",
   "name": "python3"
  },
  "language_info": {
   "codemirror_mode": {
    "name": "ipython",
    "version": 3
   },
   "file_extension": ".py",
   "mimetype": "text/x-python",
   "name": "python",
   "nbconvert_exporter": "python",
   "pygments_lexer": "ipython3",
   "version": "3.10.9"
  }
 },
 "nbformat": 4,
 "nbformat_minor": 5
}
